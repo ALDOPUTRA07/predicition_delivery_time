{
 "cells": [
  {
   "cell_type": "code",
   "execution_count": 38,
   "metadata": {},
   "outputs": [],
   "source": [
    "import os\n",
    "import sys\n",
    "\n",
    "\n",
    "import pytest\n",
    "import pandas as pd\n",
    "from sklearn.model_selection import train_test_split\n",
    "\n",
    "\n",
    "from prediction_delivery_time.processing.data_manager import load_dataset\n",
    "from prediction_delivery_time import __version__ as _version\n",
    "from prediction_delivery_time.config.core import config\n",
    "\n",
    "path = \"/Users/waresix/Documents/New Project/cache/prediction_delivery_time/prediction_delivery_time/tests\"\n",
    "\n",
    "PROJECT_ROOT = os.path.abspath(os.path.join(\n",
    "                  os.path.dirname(path), \n",
    "                  os.pardir))\n",
    "\n",
    "sys.path.append(PROJECT_ROOT)\n",
    "\n",
    "def dataset():\n",
    "    data = load_dataset(file_name=config.app_config.data)\n",
    "\n",
    "    return data\n",
    "\n",
    "def data_train_test():\n",
    "    data = load_dataset(file_name=config.app_config.data)\n",
    "\n",
    "    X_train, X_test, y_train, y_test = train_test_split(\n",
    "        data[config.config_model.features],  # predictors\n",
    "        data[config.config_model.target],\n",
    "        test_size=config.config_model.test_size,\n",
    "        # we are setting the random seed here\n",
    "        # for reproducibility\n",
    "        random_state=config.config_model.random_state,\n",
    "    )\n",
    "\n",
    "    return X_train, X_test, y_train, y_test\n",
    "\n",
    "\n",
    "def data_sample():\n",
    "    data = load_dataset(file_name=config.app_config.data)\n",
    "\n",
    "    X_train, _, _, _ = train_test_split(\n",
    "        data[config.config_model.features],  # predictors\n",
    "        data[config.config_model.target],\n",
    "        test_size=config.config_model.test_size,\n",
    "        # we are setting the random seed here\n",
    "        # for reproducibility\n",
    "        random_state=config.config_model.random_state,\n",
    "    )\n",
    "    \n",
    "    data_sample = X_train.iloc[:1]\n",
    "\n",
    "    return data_sample\n",
    "\n",
    "\n",
    "def dummy_df():\n",
    "    dummy_data = {\n",
    "        \"ID\": [\n",
    "            \"4607\"\n",
    "        ],\n",
    "        \"Delivery_person_ID\": [\n",
    "            \"INDORES13DEL02\"\n",
    "        ],\n",
    "        \"Delivery_person_Age\": [\n",
    "            37\n",
    "        ],\n",
    "        \"Delivery_person_Ratings\": [\n",
    "            4.9\n",
    "        ],\n",
    "        \"Restaurant_latitude\": [\n",
    "            22.745049\n",
    "        ],\n",
    "        \"Restaurant_longitude\": [\n",
    "            75.892471\n",
    "        ],\n",
    "        \"Delivery_location_latitude\": [\n",
    "            22.765049\n",
    "        ],\n",
    "        \"Delivery_location_longitude\": [\n",
    "            75.912471\n",
    "        ],\n",
    "        \"Type_of_order\": [\n",
    "            \"Snack\"\n",
    "        ],\n",
    "        \"Type_of_vehicle\": [\n",
    "            \"motorcycle\"\n",
    "        ],\n",
    "        \"Time_taken\": [\n",
    "            24\n",
    "        ]\n",
    "    }\n",
    "    df_dummy_data = pd.DataFrame(dummy_data)\n",
    "    return df_dummy_data"
   ]
  },
  {
   "cell_type": "markdown",
   "metadata": {},
   "source": [
    "drop features"
   ]
  },
  {
   "cell_type": "code",
   "execution_count": 50,
   "metadata": {},
   "outputs": [
    {
     "data": {
      "text/plain": [
       "True"
      ]
     },
     "execution_count": 50,
     "metadata": {},
     "output_type": "execute_result"
    }
   ],
   "source": [
    "from prediction_delivery_time import pipeline\n",
    "\n",
    "data_sample = data_train_test()\n",
    "\n",
    " # act\n",
    "result_trim_whitespaces = pipeline.price_pipe[:1].fit_transform(data_sample) \n",
    "result_trim_whitespaces_col = list(result_trim_whitespaces)\n",
    "\n",
    "# assert\n",
    "#'Restaurant_latitude' not in result_trim_whitespaces_col #'Type_of_order\n",
    "('Type_of_order' not in result_trim_whitespaces_col) == False"
   ]
  },
  {
   "cell_type": "markdown",
   "metadata": {},
   "source": [
    "test_trim_whitespaces"
   ]
  },
  {
   "cell_type": "code",
   "execution_count": 86,
   "metadata": {},
   "outputs": [
    {
     "data": {
      "text/plain": [
       "'Buffet'"
      ]
     },
     "execution_count": 86,
     "metadata": {},
     "output_type": "execute_result"
    }
   ],
   "source": [
    "result_trim_whitespaces = pipeline.price_pipe[:2].fit_transform(data_sample) \n",
    "result_trim_whitespaces = result_trim_whitespaces['Type_of_order'].values[0]\n",
    "\n",
    "result_trim_whitespaces"
   ]
  },
  {
   "cell_type": "code",
   "execution_count": 51,
   "metadata": {},
   "outputs": [
    {
     "data": {
      "text/plain": [
       "True"
      ]
     },
     "execution_count": 51,
     "metadata": {},
     "output_type": "execute_result"
    }
   ],
   "source": [
    "data_sample_type_of_order = data_sample.iloc[0].Type_of_order\n",
    "data_sample_type_of_order[-1] == ' '"
   ]
  },
  {
   "cell_type": "markdown",
   "metadata": {},
   "source": [
    "distance column"
   ]
  },
  {
   "cell_type": "code",
   "execution_count": 71,
   "metadata": {},
   "outputs": [
    {
     "data": {
      "text/plain": [
       "True"
      ]
     },
     "execution_count": 71,
     "metadata": {},
     "output_type": "execute_result"
    }
   ],
   "source": [
    " # act\n",
    "result_trim_distance_column = pipeline.price_pipe[:3].fit_transform(data_sample) \n",
    "\n",
    "result_trim_distance_column['distance'].values[0] == pytest.approx(6.2, 0.1)"
   ]
  },
  {
   "cell_type": "markdown",
   "metadata": {},
   "source": [
    "type vehicle map"
   ]
  },
  {
   "cell_type": "code",
   "execution_count": 75,
   "metadata": {},
   "outputs": [
    {
     "data": {
      "text/plain": [
       "True"
      ]
     },
     "execution_count": 75,
     "metadata": {},
     "output_type": "execute_result"
    }
   ],
   "source": [
    " # act\n",
    "result_trim_vehicle_map = pipeline.price_pipe[:4].fit_transform(data_sample) \n",
    "\n",
    "result_trim_vehicle_map['Type_of_vehicle'].dtype == 'int64'\n",
    "result_trim_vehicle_map['Type_of_vehicle'].values[0] == 0"
   ]
  },
  {
   "cell_type": "markdown",
   "metadata": {},
   "source": [
    "type order map"
   ]
  },
  {
   "cell_type": "code",
   "execution_count": 81,
   "metadata": {},
   "outputs": [
    {
     "data": {
      "text/plain": [
       "True"
      ]
     },
     "execution_count": 81,
     "metadata": {},
     "output_type": "execute_result"
    }
   ],
   "source": [
    " # act\n",
    "result_trim_type_order_map = pipeline.price_pipe[:5].fit_transform(data_sample) \n",
    "\n",
    "result_trim_type_order_map['Type_of_order'].dtype == 'int64'\n",
    "result_trim_type_order_map['Type_of_order'].values[0] == 2"
   ]
  },
  {
   "cell_type": "markdown",
   "metadata": {},
   "source": [
    "Model"
   ]
  },
  {
   "cell_type": "code",
   "execution_count": null,
   "metadata": {},
   "outputs": [],
   "source": []
  },
  {
   "cell_type": "markdown",
   "metadata": {},
   "source": [
    "### Test_train_pipeline"
   ]
  },
  {
   "cell_type": "code",
   "execution_count": 97,
   "metadata": {},
   "outputs": [],
   "source": [
    "from prediction_delivery_time import train_pipeline\n",
    "\n",
    "X_train, X_test, y_train, y_test = data_train_test()\n",
    "\n",
    "data_sample = data_sample()\n",
    "\n",
    "pipeline.price_pipe.fit(X_train, y_train) \n",
    "\n",
    "result = pipeline.price_pipe.predict(data_sample)"
   ]
  },
  {
   "cell_type": "code",
   "execution_count": 107,
   "metadata": {},
   "outputs": [
    {
     "data": {
      "text/plain": [
       "True"
      ]
     },
     "execution_count": 107,
     "metadata": {},
     "output_type": "execute_result"
    }
   ],
   "source": [
    "from prediction_delivery_time import train_pipeline\n",
    "\n",
    "a = train_pipeline.run_training()\n",
    "a is None"
   ]
  },
  {
   "cell_type": "markdown",
   "metadata": {},
   "source": [
    "### Test predict"
   ]
  },
  {
   "cell_type": "code",
   "execution_count": 12,
   "metadata": {},
   "outputs": [
    {
     "data": {
      "text/plain": [
       "23.906107"
      ]
     },
     "execution_count": 12,
     "metadata": {},
     "output_type": "execute_result"
    }
   ],
   "source": [
    "from prediction_delivery_time.predict import make_prediction\n",
    "\n",
    "data_dummy = dummy_df()\n",
    "\n",
    "a = make_prediction(input_data=data_dummy)\n",
    "\n",
    "a#['errors'] is None\n",
    "a['predictions'][0][0]"
   ]
  },
  {
   "cell_type": "markdown",
   "metadata": {},
   "source": [
    "### Test processing"
   ]
  },
  {
   "cell_type": "markdown",
   "metadata": {},
   "source": [
    "data manager"
   ]
  },
  {
   "cell_type": "code",
   "execution_count": 18,
   "metadata": {},
   "outputs": [
    {
     "name": "stderr",
     "output_type": "stream",
     "text": [
      "/Users/waresix/Library/Caches/pypoetry/virtualenvs/prediction-delivery-time-GBb6yWNt-py3.9/lib/python3.9/site-packages/sklearn/base.py:376: InconsistentVersionWarning: Trying to unpickle estimator Pipeline from version 1.3.1 when using version 1.4.0. This might lead to breaking code or invalid results. Use at your own risk. For more info please refer to:\n",
      "https://scikit-learn.org/stable/model_persistence.html#security-maintainability-limitations\n",
      "  warnings.warn(\n"
     ]
    },
    {
     "data": {
      "text/plain": [
       "True"
      ]
     },
     "execution_count": 18,
     "metadata": {},
     "output_type": "execute_result"
    }
   ],
   "source": [
    "# load_pipeline\n",
    "from prediction_delivery_time.config.core import config\n",
    "from prediction_delivery_time.processing.data_manager import load_pipeline, load_dataset\n",
    "\n",
    "pipeline_file_name = f\"{config.app_config.pipeline_save_file}{_version}.pkl\"\n",
    "_price_pipe = load_pipeline(file_name=pipeline_file_name)\n",
    "\n",
    "_price_pipe is not None"
   ]
  },
  {
   "cell_type": "code",
   "execution_count": 24,
   "metadata": {},
   "outputs": [
    {
     "data": {
      "text/plain": [
       "45593"
      ]
     },
     "execution_count": 24,
     "metadata": {},
     "output_type": "execute_result"
    }
   ],
   "source": [
    "# load dataset\n",
    "a = load_dataset(file_name=config.app_config.data)\n",
    "a.shape == (45593, 11)"
   ]
  },
  {
   "cell_type": "markdown",
   "metadata": {},
   "source": [
    "features"
   ]
  },
  {
   "cell_type": "code",
   "execution_count": 34,
   "metadata": {},
   "outputs": [
    {
     "data": {
      "text/plain": [
       "'k'"
      ]
     },
     "execution_count": 34,
     "metadata": {},
     "output_type": "execute_result"
    }
   ],
   "source": [
    "from prediction_delivery_time.processing.features import TrimWhitespaces\n",
    "\n",
    "b = TrimWhitespaces(\n",
    "                variables=config.config_model.trim_whitespace_vars\n",
    "            )\n",
    "a = b.fit_transform(X=data_dummy, y=[0])\n",
    "a.Type_of_order.values[0][-1]"
   ]
  },
  {
   "cell_type": "markdown",
   "metadata": {},
   "source": [
    "validation"
   ]
  },
  {
   "cell_type": "code",
   "execution_count": 41,
   "metadata": {},
   "outputs": [
    {
     "data": {
      "text/plain": [
       "(45593, 11)"
      ]
     },
     "execution_count": 41,
     "metadata": {},
     "output_type": "execute_result"
    }
   ],
   "source": [
    "from prediction_delivery_time.processing.validation import validate_inputs\n",
    "\n",
    "data = dataset()\n",
    "\n",
    "validated_data, errors = validate_inputs(input_data=data)\n",
    "\n",
    "validated_data.shape"
   ]
  },
  {
   "cell_type": "code",
   "execution_count": 60,
   "metadata": {},
   "outputs": [
    {
     "data": {
      "text/plain": [
       "'[{\"type\":\"string_type\",\"loc\":[\"inputs\",0,\"Type_of_order\"],\"msg\":\"Input should be a valid string\",\"input\":1,\"url\":\"https://errors.pydantic.dev/2.6/v/string_type\"}]'"
      ]
     },
     "execution_count": 60,
     "metadata": {},
     "output_type": "execute_result"
    }
   ],
   "source": [
    "from prediction_delivery_time.processing.validation import validate_inputs\n",
    "\n",
    "data = dataset()\n",
    "\n",
    "data.loc[0, \"Type_of_order\"] = 1\n",
    "\n",
    "validated_data, errors = validate_inputs(input_data=data)\n",
    "\n",
    "assert errors"
   ]
  },
  {
   "cell_type": "markdown",
   "metadata": {},
   "source": [
    "### Config"
   ]
  },
  {
   "cell_type": "code",
   "execution_count": 65,
   "metadata": {},
   "outputs": [
    {
     "data": {
      "text/plain": [
       "0.1"
      ]
     },
     "execution_count": 65,
     "metadata": {},
     "output_type": "execute_result"
    }
   ],
   "source": [
    "from prediction_delivery_time.config.core import create_and_validate_config\n",
    "\n",
    "a = create_and_validate_config()\n",
    "a.config_model.test_size"
   ]
  },
  {
   "cell_type": "code",
   "execution_count": 20,
   "metadata": {},
   "outputs": [
    {
     "data": {
      "text/plain": [
       "{'name': 'prediction_delivery_time_model',\n",
       " 'description': '',\n",
       " 'version': '0.0.1'}"
      ]
     },
     "execution_count": 20,
     "metadata": {},
     "output_type": "execute_result"
    }
   ],
   "source": [
    "from fastapi.testclient import TestClient\n",
    "from serve.app.app import app\n",
    "\n",
    "client = TestClient(app)\n",
    "\n",
    "response = client.get(\"/\")\n",
    "response\n",
    "response.json()"
   ]
  },
  {
   "cell_type": "code",
   "execution_count": 16,
   "metadata": {},
   "outputs": [
    {
     "data": {
      "text/plain": [
       "404"
      ]
     },
     "execution_count": 16,
     "metadata": {},
     "output_type": "execute_result"
    }
   ],
   "source": [
    "response = client.get(\"/test\")\n",
    "response"
   ]
  },
  {
   "cell_type": "code",
   "execution_count": 9,
   "metadata": {},
   "outputs": [
    {
     "data": {
      "text/plain": [
       "<Response [422 Unprocessable Entity]>"
      ]
     },
     "execution_count": 9,
     "metadata": {},
     "output_type": "execute_result"
    }
   ],
   "source": [
    "response = client.post(\"/predict\")\n",
    "response"
   ]
  },
  {
   "cell_type": "code",
   "execution_count": 19,
   "metadata": {},
   "outputs": [
    {
     "name": "stdout",
     "output_type": "stream",
     "text": [
      "Unexpected exception formatting exception. Falling back to standard exception\n"
     ]
    },
    {
     "name": "stderr",
     "output_type": "stream",
     "text": [
      "Traceback (most recent call last):\n",
      "  File \"/Users/waresix/Library/Caches/pypoetry/virtualenvs/prediction-delivery-time-GBb6yWNt-py3.9/lib/python3.9/site-packages/IPython/core/interactiveshell.py\", line 3550, in run_code\n",
      "    exec(code_obj, self.user_global_ns, self.user_ns)\n",
      "  File \"/var/folders/5w/bjfc8rgd6b1b9hw70b61ry1c0000gn/T/ipykernel_51143/2550967393.py\", line 1, in <module>\n",
      "    response = client.get(\"/monitoring-models\")\n",
      "  File \"/Users/waresix/Library/Caches/pypoetry/virtualenvs/prediction-delivery-time-GBb6yWNt-py3.9/lib/python3.9/site-packages/starlette/testclient.py\", line 502, in get\n",
      "    return super().get(\n",
      "  File \"/Users/waresix/Library/Caches/pypoetry/virtualenvs/prediction-delivery-time-GBb6yWNt-py3.9/lib/python3.9/site-packages/httpx/_client.py\", line 1055, in get\n",
      "    return self.request(\n",
      "  File \"/Users/waresix/Library/Caches/pypoetry/virtualenvs/prediction-delivery-time-GBb6yWNt-py3.9/lib/python3.9/site-packages/starlette/testclient.py\", line 468, in request\n",
      "    return super().request(\n",
      "  File \"/Users/waresix/Library/Caches/pypoetry/virtualenvs/prediction-delivery-time-GBb6yWNt-py3.9/lib/python3.9/site-packages/httpx/_client.py\", line 828, in request\n",
      "    return self.send(request, auth=auth, follow_redirects=follow_redirects)\n",
      "  File \"/Users/waresix/Library/Caches/pypoetry/virtualenvs/prediction-delivery-time-GBb6yWNt-py3.9/lib/python3.9/site-packages/httpx/_client.py\", line 915, in send\n",
      "    response = self._send_handling_auth(\n",
      "  File \"/Users/waresix/Library/Caches/pypoetry/virtualenvs/prediction-delivery-time-GBb6yWNt-py3.9/lib/python3.9/site-packages/httpx/_client.py\", line 943, in _send_handling_auth\n",
      "    response = self._send_handling_redirects(\n",
      "  File \"/Users/waresix/Library/Caches/pypoetry/virtualenvs/prediction-delivery-time-GBb6yWNt-py3.9/lib/python3.9/site-packages/httpx/_client.py\", line 980, in _send_handling_redirects\n",
      "    response = self._send_single_request(request)\n",
      "  File \"/Users/waresix/Library/Caches/pypoetry/virtualenvs/prediction-delivery-time-GBb6yWNt-py3.9/lib/python3.9/site-packages/httpx/_client.py\", line 1016, in _send_single_request\n",
      "    response = transport.handle_request(request)\n",
      "  File \"/Users/waresix/Library/Caches/pypoetry/virtualenvs/prediction-delivery-time-GBb6yWNt-py3.9/lib/python3.9/site-packages/starlette/testclient.py\", line 344, in handle_request\n",
      "    raise exc\n",
      "  File \"/Users/waresix/Library/Caches/pypoetry/virtualenvs/prediction-delivery-time-GBb6yWNt-py3.9/lib/python3.9/site-packages/starlette/testclient.py\", line 341, in handle_request\n",
      "    portal.call(self.app, scope, receive, send)\n",
      "  File \"/Users/waresix/Library/Caches/pypoetry/virtualenvs/prediction-delivery-time-GBb6yWNt-py3.9/lib/python3.9/site-packages/anyio/from_thread.py\", line 288, in call\n",
      "    return cast(T_Retval, self.start_task_soon(func, *args).result())\n",
      "  File \"/Users/waresix/opt/anaconda3/lib/python3.9/concurrent/futures/_base.py\", line 446, in result\n",
      "    return self.__get_result()\n",
      "  File \"/Users/waresix/opt/anaconda3/lib/python3.9/concurrent/futures/_base.py\", line 391, in __get_result\n",
      "    raise self._exception\n",
      "  File \"/Users/waresix/Library/Caches/pypoetry/virtualenvs/prediction-delivery-time-GBb6yWNt-py3.9/lib/python3.9/site-packages/anyio/from_thread.py\", line 217, in _call_func\n",
      "    retval = await retval_or_awaitable\n",
      "  File \"/Users/waresix/Library/Caches/pypoetry/virtualenvs/prediction-delivery-time-GBb6yWNt-py3.9/lib/python3.9/site-packages/fastapi/applications.py\", line 1054, in __call__\n",
      "    await super().__call__(scope, receive, send)\n",
      "  File \"/Users/waresix/Library/Caches/pypoetry/virtualenvs/prediction-delivery-time-GBb6yWNt-py3.9/lib/python3.9/site-packages/starlette/applications.py\", line 119, in __call__\n",
      "    await self.middleware_stack(scope, receive, send)\n",
      "  File \"/Users/waresix/Library/Caches/pypoetry/virtualenvs/prediction-delivery-time-GBb6yWNt-py3.9/lib/python3.9/site-packages/starlette/middleware/errors.py\", line 186, in __call__\n",
      "    raise exc\n",
      "  File \"/Users/waresix/Library/Caches/pypoetry/virtualenvs/prediction-delivery-time-GBb6yWNt-py3.9/lib/python3.9/site-packages/starlette/middleware/errors.py\", line 164, in __call__\n",
      "    await self.app(scope, receive, _send)\n",
      "  File \"/Users/waresix/Library/Caches/pypoetry/virtualenvs/prediction-delivery-time-GBb6yWNt-py3.9/lib/python3.9/site-packages/starlette/middleware/exceptions.py\", line 62, in __call__\n",
      "    await wrap_app_handling_exceptions(self.app, conn)(scope, receive, send)\n",
      "  File \"/Users/waresix/Library/Caches/pypoetry/virtualenvs/prediction-delivery-time-GBb6yWNt-py3.9/lib/python3.9/site-packages/starlette/_exception_handler.py\", line 64, in wrapped_app\n",
      "    raise exc\n",
      "  File \"/Users/waresix/Library/Caches/pypoetry/virtualenvs/prediction-delivery-time-GBb6yWNt-py3.9/lib/python3.9/site-packages/starlette/_exception_handler.py\", line 53, in wrapped_app\n",
      "    await app(scope, receive, sender)\n",
      "  File \"/Users/waresix/Library/Caches/pypoetry/virtualenvs/prediction-delivery-time-GBb6yWNt-py3.9/lib/python3.9/site-packages/starlette/routing.py\", line 762, in __call__\n",
      "    await self.middleware_stack(scope, receive, send)\n",
      "  File \"/Users/waresix/Library/Caches/pypoetry/virtualenvs/prediction-delivery-time-GBb6yWNt-py3.9/lib/python3.9/site-packages/starlette/routing.py\", line 782, in app\n",
      "    await route.handle(scope, receive, send)\n",
      "  File \"/Users/waresix/Library/Caches/pypoetry/virtualenvs/prediction-delivery-time-GBb6yWNt-py3.9/lib/python3.9/site-packages/starlette/routing.py\", line 297, in handle\n",
      "    await self.app(scope, receive, send)\n",
      "  File \"/Users/waresix/Library/Caches/pypoetry/virtualenvs/prediction-delivery-time-GBb6yWNt-py3.9/lib/python3.9/site-packages/starlette/routing.py\", line 77, in app\n",
      "    await wrap_app_handling_exceptions(app, request)(scope, receive, send)\n",
      "  File \"/Users/waresix/Library/Caches/pypoetry/virtualenvs/prediction-delivery-time-GBb6yWNt-py3.9/lib/python3.9/site-packages/starlette/_exception_handler.py\", line 64, in wrapped_app\n",
      "    raise exc\n",
      "  File \"/Users/waresix/Library/Caches/pypoetry/virtualenvs/prediction-delivery-time-GBb6yWNt-py3.9/lib/python3.9/site-packages/starlette/_exception_handler.py\", line 53, in wrapped_app\n",
      "    await app(scope, receive, sender)\n",
      "  File \"/Users/waresix/Library/Caches/pypoetry/virtualenvs/prediction-delivery-time-GBb6yWNt-py3.9/lib/python3.9/site-packages/starlette/routing.py\", line 72, in app\n",
      "    response = await func(request)\n",
      "  File \"/Users/waresix/Library/Caches/pypoetry/virtualenvs/prediction-delivery-time-GBb6yWNt-py3.9/lib/python3.9/site-packages/fastapi/routing.py\", line 299, in app\n",
      "    raise e\n",
      "  File \"/Users/waresix/Library/Caches/pypoetry/virtualenvs/prediction-delivery-time-GBb6yWNt-py3.9/lib/python3.9/site-packages/fastapi/routing.py\", line 294, in app\n",
      "    raw_response = await run_endpoint_function(\n",
      "  File \"/Users/waresix/Library/Caches/pypoetry/virtualenvs/prediction-delivery-time-GBb6yWNt-py3.9/lib/python3.9/site-packages/fastapi/routing.py\", line 193, in run_endpoint_function\n",
      "    return await run_in_threadpool(dependant.call, **values)\n",
      "  File \"/Users/waresix/Library/Caches/pypoetry/virtualenvs/prediction-delivery-time-GBb6yWNt-py3.9/lib/python3.9/site-packages/starlette/concurrency.py\", line 40, in run_in_threadpool\n",
      "    return await anyio.to_thread.run_sync(func, *args)\n",
      "  File \"/Users/waresix/Library/Caches/pypoetry/virtualenvs/prediction-delivery-time-GBb6yWNt-py3.9/lib/python3.9/site-packages/anyio/to_thread.py\", line 56, in run_sync\n",
      "    return await get_async_backend().run_sync_in_worker_thread(\n",
      "  File \"/Users/waresix/Library/Caches/pypoetry/virtualenvs/prediction-delivery-time-GBb6yWNt-py3.9/lib/python3.9/site-packages/anyio/_backends/_asyncio.py\", line 2134, in run_sync_in_worker_thread\n",
      "    return await future\n",
      "  File \"/Users/waresix/Library/Caches/pypoetry/virtualenvs/prediction-delivery-time-GBb6yWNt-py3.9/lib/python3.9/site-packages/anyio/_backends/_asyncio.py\", line 851, in run\n",
      "    result = context.run(func, *args)\n",
      "  File \"/Users/waresix/Documents/New Project/cache/prediction_delivery_time/serve/app/router.py\", line 74, in monitoring_model\n",
      "  File \"/Users/waresix/Documents/New Project/cache/prediction_delivery_time/utils/report.py\", line 60, in report_performance_model\n",
      "    current_data = load_current_data(columns = data_column)\n",
      "  File \"/Users/waresix/Documents/New Project/cache/prediction_delivery_time/utils/load_data.py\", line 23, in load_current_data\n",
      "    cur_test_data = pd.read_csv(cur_test_path)\n",
      "  File \"/Users/waresix/Library/Caches/pypoetry/virtualenvs/prediction-delivery-time-GBb6yWNt-py3.9/lib/python3.9/site-packages/pandas/io/parsers/readers.py\", line 1024, in read_csv\n",
      "    return _read(filepath_or_buffer, kwds)\n",
      "  File \"/Users/waresix/Library/Caches/pypoetry/virtualenvs/prediction-delivery-time-GBb6yWNt-py3.9/lib/python3.9/site-packages/pandas/io/parsers/readers.py\", line 618, in _read\n",
      "    parser = TextFileReader(filepath_or_buffer, **kwds)\n",
      "  File \"/Users/waresix/Library/Caches/pypoetry/virtualenvs/prediction-delivery-time-GBb6yWNt-py3.9/lib/python3.9/site-packages/pandas/io/parsers/readers.py\", line 1618, in __init__\n",
      "    self._engine = self._make_engine(f, self.engine)\n",
      "  File \"/Users/waresix/Library/Caches/pypoetry/virtualenvs/prediction-delivery-time-GBb6yWNt-py3.9/lib/python3.9/site-packages/pandas/io/parsers/readers.py\", line 1878, in _make_engine\n",
      "    self.handles = get_handle(\n",
      "  File \"/Users/waresix/Library/Caches/pypoetry/virtualenvs/prediction-delivery-time-GBb6yWNt-py3.9/lib/python3.9/site-packages/pandas/io/common.py\", line 873, in get_handle\n",
      "    handle = open(\n",
      "FileNotFoundError: [Errno 2] No such file or directory: 'monitoring/data/deliverytime_test_monitoring.csv'\n",
      "\n",
      "During handling of the above exception, another exception occurred:\n",
      "\n",
      "Traceback (most recent call last):\n",
      "  File \"/Users/waresix/Library/Caches/pypoetry/virtualenvs/prediction-delivery-time-GBb6yWNt-py3.9/lib/python3.9/site-packages/IPython/core/interactiveshell.py\", line 2144, in showtraceback\n",
      "    stb = self.InteractiveTB.structured_traceback(\n",
      "  File \"/Users/waresix/Library/Caches/pypoetry/virtualenvs/prediction-delivery-time-GBb6yWNt-py3.9/lib/python3.9/site-packages/IPython/core/ultratb.py\", line 1435, in structured_traceback\n",
      "    return FormattedTB.structured_traceback(\n",
      "  File \"/Users/waresix/Library/Caches/pypoetry/virtualenvs/prediction-delivery-time-GBb6yWNt-py3.9/lib/python3.9/site-packages/IPython/core/ultratb.py\", line 1326, in structured_traceback\n",
      "    return VerboseTB.structured_traceback(\n",
      "  File \"/Users/waresix/Library/Caches/pypoetry/virtualenvs/prediction-delivery-time-GBb6yWNt-py3.9/lib/python3.9/site-packages/IPython/core/ultratb.py\", line 1173, in structured_traceback\n",
      "    formatted_exception = self.format_exception_as_a_whole(etype, evalue, etb, number_of_lines_of_context,\n",
      "  File \"/Users/waresix/Library/Caches/pypoetry/virtualenvs/prediction-delivery-time-GBb6yWNt-py3.9/lib/python3.9/site-packages/IPython/core/ultratb.py\", line 1088, in format_exception_as_a_whole\n",
      "    frames.append(self.format_record(record))\n",
      "  File \"/Users/waresix/Library/Caches/pypoetry/virtualenvs/prediction-delivery-time-GBb6yWNt-py3.9/lib/python3.9/site-packages/IPython/core/ultratb.py\", line 970, in format_record\n",
      "    frame_info.lines, Colors, self.has_colors, lvals\n",
      "  File \"/Users/waresix/Library/Caches/pypoetry/virtualenvs/prediction-delivery-time-GBb6yWNt-py3.9/lib/python3.9/site-packages/IPython/core/ultratb.py\", line 792, in lines\n",
      "    return self._sd.lines\n",
      "  File \"/Users/waresix/Library/Caches/pypoetry/virtualenvs/prediction-delivery-time-GBb6yWNt-py3.9/lib/python3.9/site-packages/stack_data/utils.py\", line 145, in cached_property_wrapper\n",
      "    value = obj.__dict__[self.func.__name__] = self.func(obj)\n",
      "  File \"/Users/waresix/Library/Caches/pypoetry/virtualenvs/prediction-delivery-time-GBb6yWNt-py3.9/lib/python3.9/site-packages/stack_data/core.py\", line 734, in lines\n",
      "    pieces = self.included_pieces\n",
      "  File \"/Users/waresix/Library/Caches/pypoetry/virtualenvs/prediction-delivery-time-GBb6yWNt-py3.9/lib/python3.9/site-packages/stack_data/utils.py\", line 145, in cached_property_wrapper\n",
      "    value = obj.__dict__[self.func.__name__] = self.func(obj)\n",
      "  File \"/Users/waresix/Library/Caches/pypoetry/virtualenvs/prediction-delivery-time-GBb6yWNt-py3.9/lib/python3.9/site-packages/stack_data/core.py\", line 681, in included_pieces\n",
      "    pos = scope_pieces.index(self.executing_piece)\n",
      "  File \"/Users/waresix/Library/Caches/pypoetry/virtualenvs/prediction-delivery-time-GBb6yWNt-py3.9/lib/python3.9/site-packages/stack_data/utils.py\", line 145, in cached_property_wrapper\n",
      "    value = obj.__dict__[self.func.__name__] = self.func(obj)\n",
      "  File \"/Users/waresix/Library/Caches/pypoetry/virtualenvs/prediction-delivery-time-GBb6yWNt-py3.9/lib/python3.9/site-packages/stack_data/core.py\", line 660, in executing_piece\n",
      "    return only(\n",
      "  File \"/Users/waresix/Library/Caches/pypoetry/virtualenvs/prediction-delivery-time-GBb6yWNt-py3.9/lib/python3.9/site-packages/executing/executing.py\", line 116, in only\n",
      "    raise NotOneValueFound('Expected one value, found 0')\n",
      "executing.executing.NotOneValueFound: Expected one value, found 0\n"
     ]
    }
   ],
   "source": [
    "response = client.get(\"/monitoring-models\")\n",
    "response.is_error"
   ]
  },
  {
   "cell_type": "code",
   "execution_count": 6,
   "metadata": {},
   "outputs": [
    {
     "name": "stdout",
     "output_type": "stream",
     "text": [
      "2024-02-19 19:06:52,073 INFO sqlalchemy.engine.Engine BEGIN (implicit)\n",
      "2024-02-19 19:06:52,076 INFO sqlalchemy.engine.Engine INSERT INTO prediction (\"ID\", \"Delivery_person_ID\", \"Delivery_person_Age\", \"Delivery_person_Ratings\", \"Restaurant_latitude\", \"Restaurant_longitude\", \"Delivery_location_latitude\", \"Delivery_location_longitude\", \"Type_of_order\", \"Type_of_vehicle\", \"Time_taken\", prediction, \"createdAt\", \"updatedAt\") VALUES (%(ID)s, %(Delivery_person_ID)s, %(Delivery_person_Age)s, %(Delivery_person_Ratings)s, %(Restaurant_latitude)s, %(Restaurant_longitude)s, %(Delivery_location_latitude)s, %(Delivery_location_longitude)s, %(Type_of_order)s, %(Type_of_vehicle)s, %(Time_taken)s, %(prediction)s, now(), now()) RETURNING prediction.\"createdAt\", prediction.\"updatedAt\"\n",
      "2024-02-19 19:06:52,077 INFO sqlalchemy.engine.Engine [generated in 0.00065s] {'ID': '4607', 'Delivery_person_ID': 'INDORES13DEL02', 'Delivery_person_Age': 37, 'Delivery_person_Ratings': 4.9, 'Restaurant_latitude': 22.745049, 'Restaurant_longitude': 75.892471, 'Delivery_location_latitude': 22.765049, 'Delivery_location_longitude': 75.912471, 'Type_of_order': 'Snack', 'Type_of_vehicle': 'motorcycle', 'Time_taken': 24, 'prediction': 23.90610694885254}\n",
      "2024-02-19 19:06:52,251 INFO sqlalchemy.engine.Engine ROLLBACK\n"
     ]
    },
    {
     "ename": "IntegrityError",
     "evalue": "(psycopg2.errors.UniqueViolation) duplicate key value violates unique constraint \"prediction_pkey\"\nDETAIL:  Key (\"ID\")=(4607) already exists.\n\n[SQL: INSERT INTO prediction (\"ID\", \"Delivery_person_ID\", \"Delivery_person_Age\", \"Delivery_person_Ratings\", \"Restaurant_latitude\", \"Restaurant_longitude\", \"Delivery_location_latitude\", \"Delivery_location_longitude\", \"Type_of_order\", \"Type_of_vehicle\", \"Time_taken\", prediction, \"createdAt\", \"updatedAt\") VALUES (%(ID)s, %(Delivery_person_ID)s, %(Delivery_person_Age)s, %(Delivery_person_Ratings)s, %(Restaurant_latitude)s, %(Restaurant_longitude)s, %(Delivery_location_latitude)s, %(Delivery_location_longitude)s, %(Type_of_order)s, %(Type_of_vehicle)s, %(Time_taken)s, %(prediction)s, now(), now()) RETURNING prediction.\"createdAt\", prediction.\"updatedAt\"]\n[parameters: {'ID': '4607', 'Delivery_person_ID': 'INDORES13DEL02', 'Delivery_person_Age': 37, 'Delivery_person_Ratings': 4.9, 'Restaurant_latitude': 22.745049, 'Restaurant_longitude': 75.892471, 'Delivery_location_latitude': 22.765049, 'Delivery_location_longitude': 75.912471, 'Type_of_order': 'Snack', 'Type_of_vehicle': 'motorcycle', 'Time_taken': 24, 'prediction': 23.90610694885254}]\n(Background on this error at: https://sqlalche.me/e/20/gkpj)",
     "output_type": "error",
     "traceback": [
      "\u001b[0;31m---------------------------------------------------------------------------\u001b[0m",
      "\u001b[0;31mUniqueViolation\u001b[0m                           Traceback (most recent call last)",
      "File \u001b[0;32m~/Library/Caches/pypoetry/virtualenvs/prediction-delivery-time-GBb6yWNt-py3.9/lib/python3.9/site-packages/sqlalchemy/engine/base.py:1960\u001b[0m, in \u001b[0;36mConnection._exec_single_context\u001b[0;34m(self, dialect, context, statement, parameters)\u001b[0m\n\u001b[1;32m   1959\u001b[0m     \u001b[39mif\u001b[39;00m \u001b[39mnot\u001b[39;00m evt_handled:\n\u001b[0;32m-> 1960\u001b[0m         \u001b[39mself\u001b[39;49m\u001b[39m.\u001b[39;49mdialect\u001b[39m.\u001b[39;49mdo_execute(\n\u001b[1;32m   1961\u001b[0m             cursor, str_statement, effective_parameters, context\n\u001b[1;32m   1962\u001b[0m         )\n\u001b[1;32m   1964\u001b[0m \u001b[39mif\u001b[39;00m \u001b[39mself\u001b[39m\u001b[39m.\u001b[39m_has_events \u001b[39mor\u001b[39;00m \u001b[39mself\u001b[39m\u001b[39m.\u001b[39mengine\u001b[39m.\u001b[39m_has_events:\n",
      "File \u001b[0;32m~/Library/Caches/pypoetry/virtualenvs/prediction-delivery-time-GBb6yWNt-py3.9/lib/python3.9/site-packages/sqlalchemy/engine/default.py:924\u001b[0m, in \u001b[0;36mDefaultDialect.do_execute\u001b[0;34m(self, cursor, statement, parameters, context)\u001b[0m\n\u001b[1;32m    923\u001b[0m \u001b[39mdef\u001b[39;00m \u001b[39mdo_execute\u001b[39m(\u001b[39mself\u001b[39m, cursor, statement, parameters, context\u001b[39m=\u001b[39m\u001b[39mNone\u001b[39;00m):\n\u001b[0;32m--> 924\u001b[0m     cursor\u001b[39m.\u001b[39;49mexecute(statement, parameters)\n",
      "\u001b[0;31mUniqueViolation\u001b[0m: duplicate key value violates unique constraint \"prediction_pkey\"\nDETAIL:  Key (\"ID\")=(4607) already exists.\n",
      "\nThe above exception was the direct cause of the following exception:\n",
      "\u001b[0;31mIntegrityError\u001b[0m                            Traceback (most recent call last)",
      "Cell \u001b[0;32mIn[6], line 19\u001b[0m\n\u001b[1;32m      1\u001b[0m a \u001b[39m=\u001b[39m {\n\u001b[1;32m      2\u001b[0m   \u001b[39m\"\u001b[39m\u001b[39minputs\u001b[39m\u001b[39m\"\u001b[39m: [\n\u001b[1;32m      3\u001b[0m     {\n\u001b[0;32m   (...)\u001b[0m\n\u001b[1;32m     16\u001b[0m   ]\n\u001b[1;32m     17\u001b[0m }\n\u001b[0;32m---> 19\u001b[0m response \u001b[39m=\u001b[39m client\u001b[39m.\u001b[39;49mpost(\u001b[39m\"\u001b[39;49m\u001b[39m/predict\u001b[39;49m\u001b[39m\"\u001b[39;49m, json\u001b[39m=\u001b[39;49ma)\n\u001b[1;32m     20\u001b[0m response \u001b[39m=\u001b[39m response\u001b[39m.\u001b[39mjson()\n\u001b[1;32m     21\u001b[0m response[\u001b[39m'\u001b[39m\u001b[39mpredictions\u001b[39m\u001b[39m'\u001b[39m][\u001b[39m0\u001b[39m][\u001b[39m0\u001b[39m]\n",
      "File \u001b[0;32m~/Library/Caches/pypoetry/virtualenvs/prediction-delivery-time-GBb6yWNt-py3.9/lib/python3.9/site-packages/starlette/testclient.py:593\u001b[0m, in \u001b[0;36mTestClient.post\u001b[0;34m(self, url, content, data, files, json, params, headers, cookies, auth, follow_redirects, allow_redirects, timeout, extensions)\u001b[0m\n\u001b[1;32m    571\u001b[0m \u001b[39mdef\u001b[39;00m \u001b[39mpost\u001b[39m(  \u001b[39m# type: ignore[override]\u001b[39;00m\n\u001b[1;32m    572\u001b[0m     \u001b[39mself\u001b[39m,\n\u001b[1;32m    573\u001b[0m     url: httpx\u001b[39m.\u001b[39m_types\u001b[39m.\u001b[39mURLTypes,\n\u001b[0;32m   (...)\u001b[0m\n\u001b[1;32m    590\u001b[0m     extensions: typing\u001b[39m.\u001b[39mOptional[typing\u001b[39m.\u001b[39mDict[\u001b[39mstr\u001b[39m, typing\u001b[39m.\u001b[39mAny]] \u001b[39m=\u001b[39m \u001b[39mNone\u001b[39;00m,\n\u001b[1;32m    591\u001b[0m ) \u001b[39m-\u001b[39m\u001b[39m>\u001b[39m httpx\u001b[39m.\u001b[39mResponse:\n\u001b[1;32m    592\u001b[0m     redirect \u001b[39m=\u001b[39m \u001b[39mself\u001b[39m\u001b[39m.\u001b[39m_choose_redirect_arg(follow_redirects, allow_redirects)\n\u001b[0;32m--> 593\u001b[0m     \u001b[39mreturn\u001b[39;00m \u001b[39msuper\u001b[39;49m()\u001b[39m.\u001b[39;49mpost(\n\u001b[1;32m    594\u001b[0m         url,\n\u001b[1;32m    595\u001b[0m         content\u001b[39m=\u001b[39;49mcontent,\n\u001b[1;32m    596\u001b[0m         data\u001b[39m=\u001b[39;49mdata,\n\u001b[1;32m    597\u001b[0m         files\u001b[39m=\u001b[39;49mfiles,\n\u001b[1;32m    598\u001b[0m         json\u001b[39m=\u001b[39;49mjson,\n\u001b[1;32m    599\u001b[0m         params\u001b[39m=\u001b[39;49mparams,\n\u001b[1;32m    600\u001b[0m         headers\u001b[39m=\u001b[39;49mheaders,\n\u001b[1;32m    601\u001b[0m         cookies\u001b[39m=\u001b[39;49mcookies,\n\u001b[1;32m    602\u001b[0m         auth\u001b[39m=\u001b[39;49mauth,\n\u001b[1;32m    603\u001b[0m         follow_redirects\u001b[39m=\u001b[39;49mredirect,\n\u001b[1;32m    604\u001b[0m         timeout\u001b[39m=\u001b[39;49mtimeout,\n\u001b[1;32m    605\u001b[0m         extensions\u001b[39m=\u001b[39;49mextensions,\n\u001b[1;32m    606\u001b[0m     )\n",
      "File \u001b[0;32m~/Library/Caches/pypoetry/virtualenvs/prediction-delivery-time-GBb6yWNt-py3.9/lib/python3.9/site-packages/httpx/_client.py:1146\u001b[0m, in \u001b[0;36mClient.post\u001b[0;34m(self, url, content, data, files, json, params, headers, cookies, auth, follow_redirects, timeout, extensions)\u001b[0m\n\u001b[1;32m   1125\u001b[0m \u001b[39mdef\u001b[39;00m \u001b[39mpost\u001b[39m(\n\u001b[1;32m   1126\u001b[0m     \u001b[39mself\u001b[39m,\n\u001b[1;32m   1127\u001b[0m     url: URLTypes,\n\u001b[0;32m   (...)\u001b[0m\n\u001b[1;32m   1139\u001b[0m     extensions: typing\u001b[39m.\u001b[39mOptional[RequestExtensions] \u001b[39m=\u001b[39m \u001b[39mNone\u001b[39;00m,\n\u001b[1;32m   1140\u001b[0m ) \u001b[39m-\u001b[39m\u001b[39m>\u001b[39m Response:\n\u001b[1;32m   1141\u001b[0m \u001b[39m    \u001b[39m\u001b[39m\"\"\"\u001b[39;00m\n\u001b[1;32m   1142\u001b[0m \u001b[39m    Send a `POST` request.\u001b[39;00m\n\u001b[1;32m   1143\u001b[0m \n\u001b[1;32m   1144\u001b[0m \u001b[39m    **Parameters**: See `httpx.request`.\u001b[39;00m\n\u001b[1;32m   1145\u001b[0m \u001b[39m    \"\"\"\u001b[39;00m\n\u001b[0;32m-> 1146\u001b[0m     \u001b[39mreturn\u001b[39;00m \u001b[39mself\u001b[39;49m\u001b[39m.\u001b[39;49mrequest(\n\u001b[1;32m   1147\u001b[0m         \u001b[39m\"\u001b[39;49m\u001b[39mPOST\u001b[39;49m\u001b[39m\"\u001b[39;49m,\n\u001b[1;32m   1148\u001b[0m         url,\n\u001b[1;32m   1149\u001b[0m         content\u001b[39m=\u001b[39;49mcontent,\n\u001b[1;32m   1150\u001b[0m         data\u001b[39m=\u001b[39;49mdata,\n\u001b[1;32m   1151\u001b[0m         files\u001b[39m=\u001b[39;49mfiles,\n\u001b[1;32m   1152\u001b[0m         json\u001b[39m=\u001b[39;49mjson,\n\u001b[1;32m   1153\u001b[0m         params\u001b[39m=\u001b[39;49mparams,\n\u001b[1;32m   1154\u001b[0m         headers\u001b[39m=\u001b[39;49mheaders,\n\u001b[1;32m   1155\u001b[0m         cookies\u001b[39m=\u001b[39;49mcookies,\n\u001b[1;32m   1156\u001b[0m         auth\u001b[39m=\u001b[39;49mauth,\n\u001b[1;32m   1157\u001b[0m         follow_redirects\u001b[39m=\u001b[39;49mfollow_redirects,\n\u001b[1;32m   1158\u001b[0m         timeout\u001b[39m=\u001b[39;49mtimeout,\n\u001b[1;32m   1159\u001b[0m         extensions\u001b[39m=\u001b[39;49mextensions,\n\u001b[1;32m   1160\u001b[0m     )\n",
      "File \u001b[0;32m~/Library/Caches/pypoetry/virtualenvs/prediction-delivery-time-GBb6yWNt-py3.9/lib/python3.9/site-packages/starlette/testclient.py:468\u001b[0m, in \u001b[0;36mTestClient.request\u001b[0;34m(self, method, url, content, data, files, json, params, headers, cookies, auth, follow_redirects, allow_redirects, timeout, extensions)\u001b[0m\n\u001b[1;32m    466\u001b[0m url \u001b[39m=\u001b[39m \u001b[39mself\u001b[39m\u001b[39m.\u001b[39m_merge_url(url)\n\u001b[1;32m    467\u001b[0m redirect \u001b[39m=\u001b[39m \u001b[39mself\u001b[39m\u001b[39m.\u001b[39m_choose_redirect_arg(follow_redirects, allow_redirects)\n\u001b[0;32m--> 468\u001b[0m \u001b[39mreturn\u001b[39;00m \u001b[39msuper\u001b[39;49m()\u001b[39m.\u001b[39;49mrequest(\n\u001b[1;32m    469\u001b[0m     method,\n\u001b[1;32m    470\u001b[0m     url,\n\u001b[1;32m    471\u001b[0m     content\u001b[39m=\u001b[39;49mcontent,\n\u001b[1;32m    472\u001b[0m     data\u001b[39m=\u001b[39;49mdata,\n\u001b[1;32m    473\u001b[0m     files\u001b[39m=\u001b[39;49mfiles,\n\u001b[1;32m    474\u001b[0m     json\u001b[39m=\u001b[39;49mjson,\n\u001b[1;32m    475\u001b[0m     params\u001b[39m=\u001b[39;49mparams,\n\u001b[1;32m    476\u001b[0m     headers\u001b[39m=\u001b[39;49mheaders,\n\u001b[1;32m    477\u001b[0m     cookies\u001b[39m=\u001b[39;49mcookies,\n\u001b[1;32m    478\u001b[0m     auth\u001b[39m=\u001b[39;49mauth,\n\u001b[1;32m    479\u001b[0m     follow_redirects\u001b[39m=\u001b[39;49mredirect,\n\u001b[1;32m    480\u001b[0m     timeout\u001b[39m=\u001b[39;49mtimeout,\n\u001b[1;32m    481\u001b[0m     extensions\u001b[39m=\u001b[39;49mextensions,\n\u001b[1;32m    482\u001b[0m )\n",
      "File \u001b[0;32m~/Library/Caches/pypoetry/virtualenvs/prediction-delivery-time-GBb6yWNt-py3.9/lib/python3.9/site-packages/httpx/_client.py:828\u001b[0m, in \u001b[0;36mClient.request\u001b[0;34m(self, method, url, content, data, files, json, params, headers, cookies, auth, follow_redirects, timeout, extensions)\u001b[0m\n\u001b[1;32m    813\u001b[0m     warnings\u001b[39m.\u001b[39mwarn(message, \u001b[39mDeprecationWarning\u001b[39;00m)\n\u001b[1;32m    815\u001b[0m request \u001b[39m=\u001b[39m \u001b[39mself\u001b[39m\u001b[39m.\u001b[39mbuild_request(\n\u001b[1;32m    816\u001b[0m     method\u001b[39m=\u001b[39mmethod,\n\u001b[1;32m    817\u001b[0m     url\u001b[39m=\u001b[39murl,\n\u001b[0;32m   (...)\u001b[0m\n\u001b[1;32m    826\u001b[0m     extensions\u001b[39m=\u001b[39mextensions,\n\u001b[1;32m    827\u001b[0m )\n\u001b[0;32m--> 828\u001b[0m \u001b[39mreturn\u001b[39;00m \u001b[39mself\u001b[39;49m\u001b[39m.\u001b[39;49msend(request, auth\u001b[39m=\u001b[39;49mauth, follow_redirects\u001b[39m=\u001b[39;49mfollow_redirects)\n",
      "File \u001b[0;32m~/Library/Caches/pypoetry/virtualenvs/prediction-delivery-time-GBb6yWNt-py3.9/lib/python3.9/site-packages/httpx/_client.py:915\u001b[0m, in \u001b[0;36mClient.send\u001b[0;34m(self, request, stream, auth, follow_redirects)\u001b[0m\n\u001b[1;32m    907\u001b[0m follow_redirects \u001b[39m=\u001b[39m (\n\u001b[1;32m    908\u001b[0m     \u001b[39mself\u001b[39m\u001b[39m.\u001b[39mfollow_redirects\n\u001b[1;32m    909\u001b[0m     \u001b[39mif\u001b[39;00m \u001b[39misinstance\u001b[39m(follow_redirects, UseClientDefault)\n\u001b[1;32m    910\u001b[0m     \u001b[39melse\u001b[39;00m follow_redirects\n\u001b[1;32m    911\u001b[0m )\n\u001b[1;32m    913\u001b[0m auth \u001b[39m=\u001b[39m \u001b[39mself\u001b[39m\u001b[39m.\u001b[39m_build_request_auth(request, auth)\n\u001b[0;32m--> 915\u001b[0m response \u001b[39m=\u001b[39m \u001b[39mself\u001b[39;49m\u001b[39m.\u001b[39;49m_send_handling_auth(\n\u001b[1;32m    916\u001b[0m     request,\n\u001b[1;32m    917\u001b[0m     auth\u001b[39m=\u001b[39;49mauth,\n\u001b[1;32m    918\u001b[0m     follow_redirects\u001b[39m=\u001b[39;49mfollow_redirects,\n\u001b[1;32m    919\u001b[0m     history\u001b[39m=\u001b[39;49m[],\n\u001b[1;32m    920\u001b[0m )\n\u001b[1;32m    921\u001b[0m \u001b[39mtry\u001b[39;00m:\n\u001b[1;32m    922\u001b[0m     \u001b[39mif\u001b[39;00m \u001b[39mnot\u001b[39;00m stream:\n",
      "File \u001b[0;32m~/Library/Caches/pypoetry/virtualenvs/prediction-delivery-time-GBb6yWNt-py3.9/lib/python3.9/site-packages/httpx/_client.py:943\u001b[0m, in \u001b[0;36mClient._send_handling_auth\u001b[0;34m(self, request, auth, follow_redirects, history)\u001b[0m\n\u001b[1;32m    940\u001b[0m request \u001b[39m=\u001b[39m \u001b[39mnext\u001b[39m(auth_flow)\n\u001b[1;32m    942\u001b[0m \u001b[39mwhile\u001b[39;00m \u001b[39mTrue\u001b[39;00m:\n\u001b[0;32m--> 943\u001b[0m     response \u001b[39m=\u001b[39m \u001b[39mself\u001b[39;49m\u001b[39m.\u001b[39;49m_send_handling_redirects(\n\u001b[1;32m    944\u001b[0m         request,\n\u001b[1;32m    945\u001b[0m         follow_redirects\u001b[39m=\u001b[39;49mfollow_redirects,\n\u001b[1;32m    946\u001b[0m         history\u001b[39m=\u001b[39;49mhistory,\n\u001b[1;32m    947\u001b[0m     )\n\u001b[1;32m    948\u001b[0m     \u001b[39mtry\u001b[39;00m:\n\u001b[1;32m    949\u001b[0m         \u001b[39mtry\u001b[39;00m:\n",
      "File \u001b[0;32m~/Library/Caches/pypoetry/virtualenvs/prediction-delivery-time-GBb6yWNt-py3.9/lib/python3.9/site-packages/httpx/_client.py:980\u001b[0m, in \u001b[0;36mClient._send_handling_redirects\u001b[0;34m(self, request, follow_redirects, history)\u001b[0m\n\u001b[1;32m    977\u001b[0m \u001b[39mfor\u001b[39;00m hook \u001b[39min\u001b[39;00m \u001b[39mself\u001b[39m\u001b[39m.\u001b[39m_event_hooks[\u001b[39m\"\u001b[39m\u001b[39mrequest\u001b[39m\u001b[39m\"\u001b[39m]:\n\u001b[1;32m    978\u001b[0m     hook(request)\n\u001b[0;32m--> 980\u001b[0m response \u001b[39m=\u001b[39m \u001b[39mself\u001b[39;49m\u001b[39m.\u001b[39;49m_send_single_request(request)\n\u001b[1;32m    981\u001b[0m \u001b[39mtry\u001b[39;00m:\n\u001b[1;32m    982\u001b[0m     \u001b[39mfor\u001b[39;00m hook \u001b[39min\u001b[39;00m \u001b[39mself\u001b[39m\u001b[39m.\u001b[39m_event_hooks[\u001b[39m\"\u001b[39m\u001b[39mresponse\u001b[39m\u001b[39m\"\u001b[39m]:\n",
      "File \u001b[0;32m~/Library/Caches/pypoetry/virtualenvs/prediction-delivery-time-GBb6yWNt-py3.9/lib/python3.9/site-packages/httpx/_client.py:1016\u001b[0m, in \u001b[0;36mClient._send_single_request\u001b[0;34m(self, request)\u001b[0m\n\u001b[1;32m   1011\u001b[0m     \u001b[39mraise\u001b[39;00m \u001b[39mRuntimeError\u001b[39;00m(\n\u001b[1;32m   1012\u001b[0m         \u001b[39m\"\u001b[39m\u001b[39mAttempted to send an async request with a sync Client instance.\u001b[39m\u001b[39m\"\u001b[39m\n\u001b[1;32m   1013\u001b[0m     )\n\u001b[1;32m   1015\u001b[0m \u001b[39mwith\u001b[39;00m request_context(request\u001b[39m=\u001b[39mrequest):\n\u001b[0;32m-> 1016\u001b[0m     response \u001b[39m=\u001b[39m transport\u001b[39m.\u001b[39;49mhandle_request(request)\n\u001b[1;32m   1018\u001b[0m \u001b[39massert\u001b[39;00m \u001b[39misinstance\u001b[39m(response\u001b[39m.\u001b[39mstream, SyncByteStream)\n\u001b[1;32m   1020\u001b[0m response\u001b[39m.\u001b[39mrequest \u001b[39m=\u001b[39m request\n",
      "File \u001b[0;32m~/Library/Caches/pypoetry/virtualenvs/prediction-delivery-time-GBb6yWNt-py3.9/lib/python3.9/site-packages/starlette/testclient.py:344\u001b[0m, in \u001b[0;36m_TestClientTransport.handle_request\u001b[0;34m(self, request)\u001b[0m\n\u001b[1;32m    342\u001b[0m \u001b[39mexcept\u001b[39;00m \u001b[39mBaseException\u001b[39;00m \u001b[39mas\u001b[39;00m exc:\n\u001b[1;32m    343\u001b[0m     \u001b[39mif\u001b[39;00m \u001b[39mself\u001b[39m\u001b[39m.\u001b[39mraise_server_exceptions:\n\u001b[0;32m--> 344\u001b[0m         \u001b[39mraise\u001b[39;00m exc\n\u001b[1;32m    346\u001b[0m \u001b[39mif\u001b[39;00m \u001b[39mself\u001b[39m\u001b[39m.\u001b[39mraise_server_exceptions:\n\u001b[1;32m    347\u001b[0m     \u001b[39massert\u001b[39;00m response_started, \u001b[39m\"\u001b[39m\u001b[39mTestClient did not receive any response.\u001b[39m\u001b[39m\"\u001b[39m\n",
      "File \u001b[0;32m~/Library/Caches/pypoetry/virtualenvs/prediction-delivery-time-GBb6yWNt-py3.9/lib/python3.9/site-packages/starlette/testclient.py:341\u001b[0m, in \u001b[0;36m_TestClientTransport.handle_request\u001b[0;34m(self, request)\u001b[0m\n\u001b[1;32m    339\u001b[0m     \u001b[39mwith\u001b[39;00m \u001b[39mself\u001b[39m\u001b[39m.\u001b[39mportal_factory() \u001b[39mas\u001b[39;00m portal:\n\u001b[1;32m    340\u001b[0m         response_complete \u001b[39m=\u001b[39m portal\u001b[39m.\u001b[39mcall(anyio\u001b[39m.\u001b[39mEvent)\n\u001b[0;32m--> 341\u001b[0m         portal\u001b[39m.\u001b[39;49mcall(\u001b[39mself\u001b[39;49m\u001b[39m.\u001b[39;49mapp, scope, receive, send)\n\u001b[1;32m    342\u001b[0m \u001b[39mexcept\u001b[39;00m \u001b[39mBaseException\u001b[39;00m \u001b[39mas\u001b[39;00m exc:\n\u001b[1;32m    343\u001b[0m     \u001b[39mif\u001b[39;00m \u001b[39mself\u001b[39m\u001b[39m.\u001b[39mraise_server_exceptions:\n",
      "File \u001b[0;32m~/Library/Caches/pypoetry/virtualenvs/prediction-delivery-time-GBb6yWNt-py3.9/lib/python3.9/site-packages/anyio/from_thread.py:288\u001b[0m, in \u001b[0;36mBlockingPortal.call\u001b[0;34m(self, func, *args)\u001b[0m\n\u001b[1;32m    273\u001b[0m \u001b[39mdef\u001b[39;00m \u001b[39mcall\u001b[39m(\n\u001b[1;32m    274\u001b[0m     \u001b[39mself\u001b[39m,\n\u001b[1;32m    275\u001b[0m     func: Callable[[Unpack[PosArgsT]], Awaitable[T_Retval] \u001b[39m|\u001b[39m T_Retval],\n\u001b[1;32m    276\u001b[0m     \u001b[39m*\u001b[39margs: Unpack[PosArgsT],\n\u001b[1;32m    277\u001b[0m ) \u001b[39m-\u001b[39m\u001b[39m>\u001b[39m T_Retval:\n\u001b[1;32m    278\u001b[0m \u001b[39m    \u001b[39m\u001b[39m\"\"\"\u001b[39;00m\n\u001b[1;32m    279\u001b[0m \u001b[39m    Call the given function in the event loop thread.\u001b[39;00m\n\u001b[1;32m    280\u001b[0m \n\u001b[0;32m   (...)\u001b[0m\n\u001b[1;32m    286\u001b[0m \n\u001b[1;32m    287\u001b[0m \u001b[39m    \"\"\"\u001b[39;00m\n\u001b[0;32m--> 288\u001b[0m     \u001b[39mreturn\u001b[39;00m cast(T_Retval, \u001b[39mself\u001b[39;49m\u001b[39m.\u001b[39;49mstart_task_soon(func, \u001b[39m*\u001b[39;49margs)\u001b[39m.\u001b[39;49mresult())\n",
      "File \u001b[0;32m~/opt/anaconda3/lib/python3.9/concurrent/futures/_base.py:446\u001b[0m, in \u001b[0;36mFuture.result\u001b[0;34m(self, timeout)\u001b[0m\n\u001b[1;32m    444\u001b[0m     \u001b[39mraise\u001b[39;00m CancelledError()\n\u001b[1;32m    445\u001b[0m \u001b[39melif\u001b[39;00m \u001b[39mself\u001b[39m\u001b[39m.\u001b[39m_state \u001b[39m==\u001b[39m FINISHED:\n\u001b[0;32m--> 446\u001b[0m     \u001b[39mreturn\u001b[39;00m \u001b[39mself\u001b[39;49m\u001b[39m.\u001b[39;49m__get_result()\n\u001b[1;32m    447\u001b[0m \u001b[39melse\u001b[39;00m:\n\u001b[1;32m    448\u001b[0m     \u001b[39mraise\u001b[39;00m \u001b[39mTimeoutError\u001b[39;00m()\n",
      "File \u001b[0;32m~/opt/anaconda3/lib/python3.9/concurrent/futures/_base.py:391\u001b[0m, in \u001b[0;36mFuture.__get_result\u001b[0;34m(self)\u001b[0m\n\u001b[1;32m    389\u001b[0m \u001b[39mif\u001b[39;00m \u001b[39mself\u001b[39m\u001b[39m.\u001b[39m_exception:\n\u001b[1;32m    390\u001b[0m     \u001b[39mtry\u001b[39;00m:\n\u001b[0;32m--> 391\u001b[0m         \u001b[39mraise\u001b[39;00m \u001b[39mself\u001b[39m\u001b[39m.\u001b[39m_exception\n\u001b[1;32m    392\u001b[0m     \u001b[39mfinally\u001b[39;00m:\n\u001b[1;32m    393\u001b[0m         \u001b[39m# Break a reference cycle with the exception in self._exception\u001b[39;00m\n\u001b[1;32m    394\u001b[0m         \u001b[39mself\u001b[39m \u001b[39m=\u001b[39m \u001b[39mNone\u001b[39;00m\n",
      "File \u001b[0;32m~/Library/Caches/pypoetry/virtualenvs/prediction-delivery-time-GBb6yWNt-py3.9/lib/python3.9/site-packages/anyio/from_thread.py:217\u001b[0m, in \u001b[0;36mBlockingPortal._call_func\u001b[0;34m(self, func, args, kwargs, future)\u001b[0m\n\u001b[1;32m    214\u001b[0m         \u001b[39melse\u001b[39;00m:\n\u001b[1;32m    215\u001b[0m             future\u001b[39m.\u001b[39madd_done_callback(callback)\n\u001b[0;32m--> 217\u001b[0m         retval \u001b[39m=\u001b[39m \u001b[39mawait\u001b[39;00m retval_or_awaitable\n\u001b[1;32m    218\u001b[0m \u001b[39melse\u001b[39;00m:\n\u001b[1;32m    219\u001b[0m     retval \u001b[39m=\u001b[39m retval_or_awaitable\n",
      "File \u001b[0;32m~/Library/Caches/pypoetry/virtualenvs/prediction-delivery-time-GBb6yWNt-py3.9/lib/python3.9/site-packages/fastapi/applications.py:1054\u001b[0m, in \u001b[0;36mFastAPI.__call__\u001b[0;34m(self, scope, receive, send)\u001b[0m\n\u001b[1;32m   1052\u001b[0m \u001b[39mif\u001b[39;00m \u001b[39mself\u001b[39m\u001b[39m.\u001b[39mroot_path:\n\u001b[1;32m   1053\u001b[0m     scope[\u001b[39m\"\u001b[39m\u001b[39mroot_path\u001b[39m\u001b[39m\"\u001b[39m] \u001b[39m=\u001b[39m \u001b[39mself\u001b[39m\u001b[39m.\u001b[39mroot_path\n\u001b[0;32m-> 1054\u001b[0m \u001b[39mawait\u001b[39;00m \u001b[39msuper\u001b[39m()\u001b[39m.\u001b[39m\u001b[39m__call__\u001b[39m(scope, receive, send)\n",
      "File \u001b[0;32m~/Library/Caches/pypoetry/virtualenvs/prediction-delivery-time-GBb6yWNt-py3.9/lib/python3.9/site-packages/starlette/applications.py:119\u001b[0m, in \u001b[0;36mStarlette.__call__\u001b[0;34m(self, scope, receive, send)\u001b[0m\n\u001b[1;32m    117\u001b[0m \u001b[39mif\u001b[39;00m \u001b[39mself\u001b[39m\u001b[39m.\u001b[39mmiddleware_stack \u001b[39mis\u001b[39;00m \u001b[39mNone\u001b[39;00m:\n\u001b[1;32m    118\u001b[0m     \u001b[39mself\u001b[39m\u001b[39m.\u001b[39mmiddleware_stack \u001b[39m=\u001b[39m \u001b[39mself\u001b[39m\u001b[39m.\u001b[39mbuild_middleware_stack()\n\u001b[0;32m--> 119\u001b[0m \u001b[39mawait\u001b[39;00m \u001b[39mself\u001b[39m\u001b[39m.\u001b[39mmiddleware_stack(scope, receive, send)\n",
      "File \u001b[0;32m~/Library/Caches/pypoetry/virtualenvs/prediction-delivery-time-GBb6yWNt-py3.9/lib/python3.9/site-packages/starlette/middleware/errors.py:186\u001b[0m, in \u001b[0;36mServerErrorMiddleware.__call__\u001b[0;34m(self, scope, receive, send)\u001b[0m\n\u001b[1;32m    181\u001b[0m     \u001b[39mawait\u001b[39;00m response(scope, receive, send)\n\u001b[1;32m    183\u001b[0m \u001b[39m# We always continue to raise the exception.\u001b[39;00m\n\u001b[1;32m    184\u001b[0m \u001b[39m# This allows servers to log the error, or allows test clients\u001b[39;00m\n\u001b[1;32m    185\u001b[0m \u001b[39m# to optionally raise the error within the test case.\u001b[39;00m\n\u001b[0;32m--> 186\u001b[0m \u001b[39mraise\u001b[39;00m exc\n",
      "File \u001b[0;32m~/Library/Caches/pypoetry/virtualenvs/prediction-delivery-time-GBb6yWNt-py3.9/lib/python3.9/site-packages/starlette/middleware/errors.py:164\u001b[0m, in \u001b[0;36mServerErrorMiddleware.__call__\u001b[0;34m(self, scope, receive, send)\u001b[0m\n\u001b[1;32m    161\u001b[0m     \u001b[39mawait\u001b[39;00m send(message)\n\u001b[1;32m    163\u001b[0m \u001b[39mtry\u001b[39;00m:\n\u001b[0;32m--> 164\u001b[0m     \u001b[39mawait\u001b[39;00m \u001b[39mself\u001b[39m\u001b[39m.\u001b[39mapp(scope, receive, _send)\n\u001b[1;32m    165\u001b[0m \u001b[39mexcept\u001b[39;00m \u001b[39mException\u001b[39;00m \u001b[39mas\u001b[39;00m exc:\n\u001b[1;32m    166\u001b[0m     request \u001b[39m=\u001b[39m Request(scope)\n",
      "File \u001b[0;32m~/Library/Caches/pypoetry/virtualenvs/prediction-delivery-time-GBb6yWNt-py3.9/lib/python3.9/site-packages/starlette/middleware/exceptions.py:62\u001b[0m, in \u001b[0;36mExceptionMiddleware.__call__\u001b[0;34m(self, scope, receive, send)\u001b[0m\n\u001b[1;32m     59\u001b[0m \u001b[39melse\u001b[39;00m:\n\u001b[1;32m     60\u001b[0m     conn \u001b[39m=\u001b[39m WebSocket(scope, receive, send)\n\u001b[0;32m---> 62\u001b[0m \u001b[39mawait\u001b[39;00m wrap_app_handling_exceptions(\u001b[39mself\u001b[39m\u001b[39m.\u001b[39mapp, conn)(scope, receive, send)\n",
      "File \u001b[0;32m~/Library/Caches/pypoetry/virtualenvs/prediction-delivery-time-GBb6yWNt-py3.9/lib/python3.9/site-packages/starlette/_exception_handler.py:64\u001b[0m, in \u001b[0;36mwrap_app_handling_exceptions.<locals>.wrapped_app\u001b[0;34m(scope, receive, send)\u001b[0m\n\u001b[1;32m     61\u001b[0m     handler \u001b[39m=\u001b[39m _lookup_exception_handler(exception_handlers, exc)\n\u001b[1;32m     63\u001b[0m \u001b[39mif\u001b[39;00m handler \u001b[39mis\u001b[39;00m \u001b[39mNone\u001b[39;00m:\n\u001b[0;32m---> 64\u001b[0m     \u001b[39mraise\u001b[39;00m exc\n\u001b[1;32m     66\u001b[0m \u001b[39mif\u001b[39;00m response_started:\n\u001b[1;32m     67\u001b[0m     msg \u001b[39m=\u001b[39m \u001b[39m\"\u001b[39m\u001b[39mCaught handled exception, but response already started.\u001b[39m\u001b[39m\"\u001b[39m\n",
      "File \u001b[0;32m~/Library/Caches/pypoetry/virtualenvs/prediction-delivery-time-GBb6yWNt-py3.9/lib/python3.9/site-packages/starlette/_exception_handler.py:53\u001b[0m, in \u001b[0;36mwrap_app_handling_exceptions.<locals>.wrapped_app\u001b[0;34m(scope, receive, send)\u001b[0m\n\u001b[1;32m     50\u001b[0m     \u001b[39mawait\u001b[39;00m send(message)\n\u001b[1;32m     52\u001b[0m \u001b[39mtry\u001b[39;00m:\n\u001b[0;32m---> 53\u001b[0m     \u001b[39mawait\u001b[39;00m app(scope, receive, sender)\n\u001b[1;32m     54\u001b[0m \u001b[39mexcept\u001b[39;00m \u001b[39mException\u001b[39;00m \u001b[39mas\u001b[39;00m exc:\n\u001b[1;32m     55\u001b[0m     handler \u001b[39m=\u001b[39m \u001b[39mNone\u001b[39;00m\n",
      "File \u001b[0;32m~/Library/Caches/pypoetry/virtualenvs/prediction-delivery-time-GBb6yWNt-py3.9/lib/python3.9/site-packages/starlette/routing.py:762\u001b[0m, in \u001b[0;36mRouter.__call__\u001b[0;34m(self, scope, receive, send)\u001b[0m\n\u001b[1;32m    758\u001b[0m \u001b[39masync\u001b[39;00m \u001b[39mdef\u001b[39;00m \u001b[39m__call__\u001b[39m(\u001b[39mself\u001b[39m, scope: Scope, receive: Receive, send: Send) \u001b[39m-\u001b[39m\u001b[39m>\u001b[39m \u001b[39mNone\u001b[39;00m:\n\u001b[1;32m    759\u001b[0m \u001b[39m    \u001b[39m\u001b[39m\"\"\"\u001b[39;00m\n\u001b[1;32m    760\u001b[0m \u001b[39m    The main entry point to the Router class.\u001b[39;00m\n\u001b[1;32m    761\u001b[0m \u001b[39m    \"\"\"\u001b[39;00m\n\u001b[0;32m--> 762\u001b[0m     \u001b[39mawait\u001b[39;00m \u001b[39mself\u001b[39m\u001b[39m.\u001b[39mmiddleware_stack(scope, receive, send)\n",
      "File \u001b[0;32m~/Library/Caches/pypoetry/virtualenvs/prediction-delivery-time-GBb6yWNt-py3.9/lib/python3.9/site-packages/starlette/routing.py:782\u001b[0m, in \u001b[0;36mRouter.app\u001b[0;34m(self, scope, receive, send)\u001b[0m\n\u001b[1;32m    780\u001b[0m \u001b[39mif\u001b[39;00m match \u001b[39m==\u001b[39m Match\u001b[39m.\u001b[39mFULL:\n\u001b[1;32m    781\u001b[0m     scope\u001b[39m.\u001b[39mupdate(child_scope)\n\u001b[0;32m--> 782\u001b[0m     \u001b[39mawait\u001b[39;00m route\u001b[39m.\u001b[39mhandle(scope, receive, send)\n\u001b[1;32m    783\u001b[0m     \u001b[39mreturn\u001b[39;00m\n\u001b[1;32m    784\u001b[0m \u001b[39melif\u001b[39;00m match \u001b[39m==\u001b[39m Match\u001b[39m.\u001b[39mPARTIAL \u001b[39mand\u001b[39;00m partial \u001b[39mis\u001b[39;00m \u001b[39mNone\u001b[39;00m:\n",
      "File \u001b[0;32m~/Library/Caches/pypoetry/virtualenvs/prediction-delivery-time-GBb6yWNt-py3.9/lib/python3.9/site-packages/starlette/routing.py:297\u001b[0m, in \u001b[0;36mRoute.handle\u001b[0;34m(self, scope, receive, send)\u001b[0m\n\u001b[1;32m    295\u001b[0m     \u001b[39mawait\u001b[39;00m response(scope, receive, send)\n\u001b[1;32m    296\u001b[0m \u001b[39melse\u001b[39;00m:\n\u001b[0;32m--> 297\u001b[0m     \u001b[39mawait\u001b[39;00m \u001b[39mself\u001b[39m\u001b[39m.\u001b[39mapp(scope, receive, send)\n",
      "File \u001b[0;32m~/Library/Caches/pypoetry/virtualenvs/prediction-delivery-time-GBb6yWNt-py3.9/lib/python3.9/site-packages/starlette/routing.py:77\u001b[0m, in \u001b[0;36mrequest_response.<locals>.app\u001b[0;34m(scope, receive, send)\u001b[0m\n\u001b[1;32m     74\u001b[0m         response \u001b[39m=\u001b[39m \u001b[39mawait\u001b[39;00m run_in_threadpool(func, request)\n\u001b[1;32m     75\u001b[0m     \u001b[39mawait\u001b[39;00m response(scope, receive, send)\n\u001b[0;32m---> 77\u001b[0m \u001b[39mawait\u001b[39;00m wrap_app_handling_exceptions(app, request)(scope, receive, send)\n",
      "File \u001b[0;32m~/Library/Caches/pypoetry/virtualenvs/prediction-delivery-time-GBb6yWNt-py3.9/lib/python3.9/site-packages/starlette/_exception_handler.py:64\u001b[0m, in \u001b[0;36mwrap_app_handling_exceptions.<locals>.wrapped_app\u001b[0;34m(scope, receive, send)\u001b[0m\n\u001b[1;32m     61\u001b[0m     handler \u001b[39m=\u001b[39m _lookup_exception_handler(exception_handlers, exc)\n\u001b[1;32m     63\u001b[0m \u001b[39mif\u001b[39;00m handler \u001b[39mis\u001b[39;00m \u001b[39mNone\u001b[39;00m:\n\u001b[0;32m---> 64\u001b[0m     \u001b[39mraise\u001b[39;00m exc\n\u001b[1;32m     66\u001b[0m \u001b[39mif\u001b[39;00m response_started:\n\u001b[1;32m     67\u001b[0m     msg \u001b[39m=\u001b[39m \u001b[39m\"\u001b[39m\u001b[39mCaught handled exception, but response already started.\u001b[39m\u001b[39m\"\u001b[39m\n",
      "File \u001b[0;32m~/Library/Caches/pypoetry/virtualenvs/prediction-delivery-time-GBb6yWNt-py3.9/lib/python3.9/site-packages/starlette/_exception_handler.py:53\u001b[0m, in \u001b[0;36mwrap_app_handling_exceptions.<locals>.wrapped_app\u001b[0;34m(scope, receive, send)\u001b[0m\n\u001b[1;32m     50\u001b[0m     \u001b[39mawait\u001b[39;00m send(message)\n\u001b[1;32m     52\u001b[0m \u001b[39mtry\u001b[39;00m:\n\u001b[0;32m---> 53\u001b[0m     \u001b[39mawait\u001b[39;00m app(scope, receive, sender)\n\u001b[1;32m     54\u001b[0m \u001b[39mexcept\u001b[39;00m \u001b[39mException\u001b[39;00m \u001b[39mas\u001b[39;00m exc:\n\u001b[1;32m     55\u001b[0m     handler \u001b[39m=\u001b[39m \u001b[39mNone\u001b[39;00m\n",
      "File \u001b[0;32m~/Library/Caches/pypoetry/virtualenvs/prediction-delivery-time-GBb6yWNt-py3.9/lib/python3.9/site-packages/starlette/routing.py:72\u001b[0m, in \u001b[0;36mrequest_response.<locals>.app.<locals>.app\u001b[0;34m(scope, receive, send)\u001b[0m\n\u001b[1;32m     70\u001b[0m \u001b[39masync\u001b[39;00m \u001b[39mdef\u001b[39;00m \u001b[39mapp\u001b[39m(scope: Scope, receive: Receive, send: Send) \u001b[39m-\u001b[39m\u001b[39m>\u001b[39m \u001b[39mNone\u001b[39;00m:\n\u001b[1;32m     71\u001b[0m     \u001b[39mif\u001b[39;00m is_async_callable(func):\n\u001b[0;32m---> 72\u001b[0m         response \u001b[39m=\u001b[39m \u001b[39mawait\u001b[39;00m func(request)\n\u001b[1;32m     73\u001b[0m     \u001b[39melse\u001b[39;00m:\n\u001b[1;32m     74\u001b[0m         response \u001b[39m=\u001b[39m \u001b[39mawait\u001b[39;00m run_in_threadpool(func, request)\n",
      "File \u001b[0;32m~/Library/Caches/pypoetry/virtualenvs/prediction-delivery-time-GBb6yWNt-py3.9/lib/python3.9/site-packages/fastapi/routing.py:299\u001b[0m, in \u001b[0;36mget_request_handler.<locals>.app\u001b[0;34m(request)\u001b[0m\n\u001b[1;32m    297\u001b[0m \u001b[39mexcept\u001b[39;00m \u001b[39mException\u001b[39;00m \u001b[39mas\u001b[39;00m e:\n\u001b[1;32m    298\u001b[0m     exception_to_reraise \u001b[39m=\u001b[39m e\n\u001b[0;32m--> 299\u001b[0m     \u001b[39mraise\u001b[39;00m e\n\u001b[1;32m    300\u001b[0m \u001b[39mif\u001b[39;00m \u001b[39misinstance\u001b[39m(raw_response, Response):\n\u001b[1;32m    301\u001b[0m     \u001b[39mif\u001b[39;00m raw_response\u001b[39m.\u001b[39mbackground \u001b[39mis\u001b[39;00m \u001b[39mNone\u001b[39;00m:\n",
      "File \u001b[0;32m~/Library/Caches/pypoetry/virtualenvs/prediction-delivery-time-GBb6yWNt-py3.9/lib/python3.9/site-packages/fastapi/routing.py:294\u001b[0m, in \u001b[0;36mget_request_handler.<locals>.app\u001b[0;34m(request)\u001b[0m\n\u001b[1;32m    292\u001b[0m \u001b[39melse\u001b[39;00m:\n\u001b[1;32m    293\u001b[0m     \u001b[39mtry\u001b[39;00m:\n\u001b[0;32m--> 294\u001b[0m         raw_response \u001b[39m=\u001b[39m \u001b[39mawait\u001b[39;00m run_endpoint_function(\n\u001b[1;32m    295\u001b[0m             dependant\u001b[39m=\u001b[39mdependant, values\u001b[39m=\u001b[39mvalues, is_coroutine\u001b[39m=\u001b[39mis_coroutine\n\u001b[1;32m    296\u001b[0m         )\n\u001b[1;32m    297\u001b[0m     \u001b[39mexcept\u001b[39;00m \u001b[39mException\u001b[39;00m \u001b[39mas\u001b[39;00m e:\n\u001b[1;32m    298\u001b[0m         exception_to_reraise \u001b[39m=\u001b[39m e\n",
      "File \u001b[0;32m~/Library/Caches/pypoetry/virtualenvs/prediction-delivery-time-GBb6yWNt-py3.9/lib/python3.9/site-packages/fastapi/routing.py:193\u001b[0m, in \u001b[0;36mrun_endpoint_function\u001b[0;34m(dependant, values, is_coroutine)\u001b[0m\n\u001b[1;32m    191\u001b[0m     \u001b[39mreturn\u001b[39;00m \u001b[39mawait\u001b[39;00m dependant\u001b[39m.\u001b[39mcall(\u001b[39m*\u001b[39m\u001b[39m*\u001b[39mvalues)\n\u001b[1;32m    192\u001b[0m \u001b[39melse\u001b[39;00m:\n\u001b[0;32m--> 193\u001b[0m     \u001b[39mreturn\u001b[39;00m \u001b[39mawait\u001b[39;00m run_in_threadpool(dependant\u001b[39m.\u001b[39mcall, \u001b[39m*\u001b[39m\u001b[39m*\u001b[39mvalues)\n",
      "File \u001b[0;32m~/Library/Caches/pypoetry/virtualenvs/prediction-delivery-time-GBb6yWNt-py3.9/lib/python3.9/site-packages/starlette/concurrency.py:40\u001b[0m, in \u001b[0;36mrun_in_threadpool\u001b[0;34m(func, *args, **kwargs)\u001b[0m\n\u001b[1;32m     37\u001b[0m \u001b[39mif\u001b[39;00m kwargs:  \u001b[39m# pragma: no cover\u001b[39;00m\n\u001b[1;32m     38\u001b[0m     \u001b[39m# run_sync doesn't accept 'kwargs', so bind them in here\u001b[39;00m\n\u001b[1;32m     39\u001b[0m     func \u001b[39m=\u001b[39m functools\u001b[39m.\u001b[39mpartial(func, \u001b[39m*\u001b[39m\u001b[39m*\u001b[39mkwargs)\n\u001b[0;32m---> 40\u001b[0m \u001b[39mreturn\u001b[39;00m \u001b[39mawait\u001b[39;00m anyio\u001b[39m.\u001b[39mto_thread\u001b[39m.\u001b[39mrun_sync(func, \u001b[39m*\u001b[39margs)\n",
      "File \u001b[0;32m~/Library/Caches/pypoetry/virtualenvs/prediction-delivery-time-GBb6yWNt-py3.9/lib/python3.9/site-packages/anyio/to_thread.py:56\u001b[0m, in \u001b[0;36mrun_sync\u001b[0;34m(func, abandon_on_cancel, cancellable, limiter, *args)\u001b[0m\n\u001b[1;32m     48\u001b[0m     abandon_on_cancel \u001b[39m=\u001b[39m cancellable\n\u001b[1;32m     49\u001b[0m     warn(\n\u001b[1;32m     50\u001b[0m         \u001b[39m\"\u001b[39m\u001b[39mThe `cancellable=` keyword argument to `anyio.to_thread.run_sync` is \u001b[39m\u001b[39m\"\u001b[39m\n\u001b[1;32m     51\u001b[0m         \u001b[39m\"\u001b[39m\u001b[39mdeprecated since AnyIO 4.1.0; use `abandon_on_cancel=` instead\u001b[39m\u001b[39m\"\u001b[39m,\n\u001b[1;32m     52\u001b[0m         \u001b[39mDeprecationWarning\u001b[39;00m,\n\u001b[1;32m     53\u001b[0m         stacklevel\u001b[39m=\u001b[39m\u001b[39m2\u001b[39m,\n\u001b[1;32m     54\u001b[0m     )\n\u001b[0;32m---> 56\u001b[0m \u001b[39mreturn\u001b[39;00m \u001b[39mawait\u001b[39;00m get_async_backend()\u001b[39m.\u001b[39mrun_sync_in_worker_thread(\n\u001b[1;32m     57\u001b[0m     func, args, abandon_on_cancel\u001b[39m=\u001b[39mabandon_on_cancel, limiter\u001b[39m=\u001b[39mlimiter\n\u001b[1;32m     58\u001b[0m )\n",
      "File \u001b[0;32m~/Library/Caches/pypoetry/virtualenvs/prediction-delivery-time-GBb6yWNt-py3.9/lib/python3.9/site-packages/anyio/_backends/_asyncio.py:2134\u001b[0m, in \u001b[0;36mAsyncIOBackend.run_sync_in_worker_thread\u001b[0;34m(cls, func, args, abandon_on_cancel, limiter)\u001b[0m\n\u001b[1;32m   2131\u001b[0m     worker_scope \u001b[39m=\u001b[39m scope\u001b[39m.\u001b[39m_parent_scope\n\u001b[1;32m   2133\u001b[0m worker\u001b[39m.\u001b[39mqueue\u001b[39m.\u001b[39mput_nowait((context, func, args, future, worker_scope))\n\u001b[0;32m-> 2134\u001b[0m \u001b[39mreturn\u001b[39;00m \u001b[39mawait\u001b[39;00m future\n",
      "File \u001b[0;32m~/Library/Caches/pypoetry/virtualenvs/prediction-delivery-time-GBb6yWNt-py3.9/lib/python3.9/site-packages/anyio/_backends/_asyncio.py:851\u001b[0m, in \u001b[0;36mWorkerThread.run\u001b[0;34m(self)\u001b[0m\n\u001b[1;32m    849\u001b[0m threadlocals\u001b[39m.\u001b[39mcurrent_cancel_scope \u001b[39m=\u001b[39m cancel_scope\n\u001b[1;32m    850\u001b[0m \u001b[39mtry\u001b[39;00m:\n\u001b[0;32m--> 851\u001b[0m     result \u001b[39m=\u001b[39m context\u001b[39m.\u001b[39;49mrun(func, \u001b[39m*\u001b[39;49margs)\n\u001b[1;32m    852\u001b[0m \u001b[39mexcept\u001b[39;00m \u001b[39mBaseException\u001b[39;00m \u001b[39mas\u001b[39;00m exc:\n\u001b[1;32m    853\u001b[0m     exception \u001b[39m=\u001b[39m exc\n",
      "File \u001b[0;32m~/Documents/New Project/cache/prediction_delivery_time/serve/app/router.py:66\u001b[0m, in \u001b[0;36mpredict\u001b[0;34m(data, db)\u001b[0m\n\u001b[1;32m     62\u001b[0m df[\u001b[39m'\u001b[39m\u001b[39mprediction\u001b[39m\u001b[39m'\u001b[39m] \u001b[39m=\u001b[39m result[\u001b[39m'\u001b[39m\u001b[39mpredictions\u001b[39m\u001b[39m'\u001b[39m]\n\u001b[1;32m     64\u001b[0m db\u001b[39m.\u001b[39madd_all([\n\u001b[1;32m     65\u001b[0m     PredictionTable(\u001b[39m*\u001b[39m\u001b[39m*\u001b[39mpred) \u001b[39mfor\u001b[39;00m pred \u001b[39min\u001b[39;00m df\u001b[39m.\u001b[39mto_dict(\u001b[39m'\u001b[39m\u001b[39mrecords\u001b[39m\u001b[39m'\u001b[39m)])\n\u001b[0;32m---> 66\u001b[0m db\u001b[39m.\u001b[39;49mcommit()\n\u001b[1;32m     68\u001b[0m \u001b[39mreturn\u001b[39;00m result\n",
      "File \u001b[0;32m~/Library/Caches/pypoetry/virtualenvs/prediction-delivery-time-GBb6yWNt-py3.9/lib/python3.9/site-packages/sqlalchemy/orm/session.py:1972\u001b[0m, in \u001b[0;36mSession.commit\u001b[0;34m(self)\u001b[0m\n\u001b[1;32m   1969\u001b[0m \u001b[39mif\u001b[39;00m trans \u001b[39mis\u001b[39;00m \u001b[39mNone\u001b[39;00m:\n\u001b[1;32m   1970\u001b[0m     trans \u001b[39m=\u001b[39m \u001b[39mself\u001b[39m\u001b[39m.\u001b[39m_autobegin_t()\n\u001b[0;32m-> 1972\u001b[0m trans\u001b[39m.\u001b[39;49mcommit(_to_root\u001b[39m=\u001b[39;49m\u001b[39mTrue\u001b[39;49;00m)\n",
      "File \u001b[0;32m<string>:2\u001b[0m, in \u001b[0;36mcommit\u001b[0;34m(self, _to_root)\u001b[0m\n",
      "File \u001b[0;32m~/Library/Caches/pypoetry/virtualenvs/prediction-delivery-time-GBb6yWNt-py3.9/lib/python3.9/site-packages/sqlalchemy/orm/state_changes.py:139\u001b[0m, in \u001b[0;36m_StateChange.declare_states.<locals>._go\u001b[0;34m(fn, self, *arg, **kw)\u001b[0m\n\u001b[1;32m    137\u001b[0m \u001b[39mself\u001b[39m\u001b[39m.\u001b[39m_next_state \u001b[39m=\u001b[39m _StateChangeStates\u001b[39m.\u001b[39mCHANGE_IN_PROGRESS\n\u001b[1;32m    138\u001b[0m \u001b[39mtry\u001b[39;00m:\n\u001b[0;32m--> 139\u001b[0m     ret_value \u001b[39m=\u001b[39m fn(\u001b[39mself\u001b[39;49m, \u001b[39m*\u001b[39;49marg, \u001b[39m*\u001b[39;49m\u001b[39m*\u001b[39;49mkw)\n\u001b[1;32m    140\u001b[0m \u001b[39mexcept\u001b[39;00m:\n\u001b[1;32m    141\u001b[0m     \u001b[39mraise\u001b[39;00m\n",
      "File \u001b[0;32m~/Library/Caches/pypoetry/virtualenvs/prediction-delivery-time-GBb6yWNt-py3.9/lib/python3.9/site-packages/sqlalchemy/orm/session.py:1257\u001b[0m, in \u001b[0;36mSessionTransaction.commit\u001b[0;34m(self, _to_root)\u001b[0m\n\u001b[1;32m   1255\u001b[0m \u001b[39mif\u001b[39;00m \u001b[39mself\u001b[39m\u001b[39m.\u001b[39m_state \u001b[39mis\u001b[39;00m \u001b[39mnot\u001b[39;00m SessionTransactionState\u001b[39m.\u001b[39mPREPARED:\n\u001b[1;32m   1256\u001b[0m     \u001b[39mwith\u001b[39;00m \u001b[39mself\u001b[39m\u001b[39m.\u001b[39m_expect_state(SessionTransactionState\u001b[39m.\u001b[39mPREPARED):\n\u001b[0;32m-> 1257\u001b[0m         \u001b[39mself\u001b[39;49m\u001b[39m.\u001b[39;49m_prepare_impl()\n\u001b[1;32m   1259\u001b[0m \u001b[39mif\u001b[39;00m \u001b[39mself\u001b[39m\u001b[39m.\u001b[39m_parent \u001b[39mis\u001b[39;00m \u001b[39mNone\u001b[39;00m \u001b[39mor\u001b[39;00m \u001b[39mself\u001b[39m\u001b[39m.\u001b[39mnested:\n\u001b[1;32m   1260\u001b[0m     \u001b[39mfor\u001b[39;00m conn, trans, should_commit, autoclose \u001b[39min\u001b[39;00m \u001b[39mset\u001b[39m(\n\u001b[1;32m   1261\u001b[0m         \u001b[39mself\u001b[39m\u001b[39m.\u001b[39m_connections\u001b[39m.\u001b[39mvalues()\n\u001b[1;32m   1262\u001b[0m     ):\n",
      "File \u001b[0;32m<string>:2\u001b[0m, in \u001b[0;36m_prepare_impl\u001b[0;34m(self)\u001b[0m\n",
      "File \u001b[0;32m~/Library/Caches/pypoetry/virtualenvs/prediction-delivery-time-GBb6yWNt-py3.9/lib/python3.9/site-packages/sqlalchemy/orm/state_changes.py:139\u001b[0m, in \u001b[0;36m_StateChange.declare_states.<locals>._go\u001b[0;34m(fn, self, *arg, **kw)\u001b[0m\n\u001b[1;32m    137\u001b[0m \u001b[39mself\u001b[39m\u001b[39m.\u001b[39m_next_state \u001b[39m=\u001b[39m _StateChangeStates\u001b[39m.\u001b[39mCHANGE_IN_PROGRESS\n\u001b[1;32m    138\u001b[0m \u001b[39mtry\u001b[39;00m:\n\u001b[0;32m--> 139\u001b[0m     ret_value \u001b[39m=\u001b[39m fn(\u001b[39mself\u001b[39;49m, \u001b[39m*\u001b[39;49marg, \u001b[39m*\u001b[39;49m\u001b[39m*\u001b[39;49mkw)\n\u001b[1;32m    140\u001b[0m \u001b[39mexcept\u001b[39;00m:\n\u001b[1;32m    141\u001b[0m     \u001b[39mraise\u001b[39;00m\n",
      "File \u001b[0;32m~/Library/Caches/pypoetry/virtualenvs/prediction-delivery-time-GBb6yWNt-py3.9/lib/python3.9/site-packages/sqlalchemy/orm/session.py:1232\u001b[0m, in \u001b[0;36mSessionTransaction._prepare_impl\u001b[0;34m(self)\u001b[0m\n\u001b[1;32m   1230\u001b[0m     \u001b[39mif\u001b[39;00m \u001b[39mself\u001b[39m\u001b[39m.\u001b[39msession\u001b[39m.\u001b[39m_is_clean():\n\u001b[1;32m   1231\u001b[0m         \u001b[39mbreak\u001b[39;00m\n\u001b[0;32m-> 1232\u001b[0m     \u001b[39mself\u001b[39;49m\u001b[39m.\u001b[39;49msession\u001b[39m.\u001b[39;49mflush()\n\u001b[1;32m   1233\u001b[0m \u001b[39melse\u001b[39;00m:\n\u001b[1;32m   1234\u001b[0m     \u001b[39mraise\u001b[39;00m exc\u001b[39m.\u001b[39mFlushError(\n\u001b[1;32m   1235\u001b[0m         \u001b[39m\"\u001b[39m\u001b[39mOver 100 subsequent flushes have occurred within \u001b[39m\u001b[39m\"\u001b[39m\n\u001b[1;32m   1236\u001b[0m         \u001b[39m\"\u001b[39m\u001b[39msession.commit() - is an after_flush() hook \u001b[39m\u001b[39m\"\u001b[39m\n\u001b[1;32m   1237\u001b[0m         \u001b[39m\"\u001b[39m\u001b[39mcreating new objects?\u001b[39m\u001b[39m\"\u001b[39m\n\u001b[1;32m   1238\u001b[0m     )\n",
      "File \u001b[0;32m~/Library/Caches/pypoetry/virtualenvs/prediction-delivery-time-GBb6yWNt-py3.9/lib/python3.9/site-packages/sqlalchemy/orm/session.py:4296\u001b[0m, in \u001b[0;36mSession.flush\u001b[0;34m(self, objects)\u001b[0m\n\u001b[1;32m   4294\u001b[0m \u001b[39mtry\u001b[39;00m:\n\u001b[1;32m   4295\u001b[0m     \u001b[39mself\u001b[39m\u001b[39m.\u001b[39m_flushing \u001b[39m=\u001b[39m \u001b[39mTrue\u001b[39;00m\n\u001b[0;32m-> 4296\u001b[0m     \u001b[39mself\u001b[39;49m\u001b[39m.\u001b[39;49m_flush(objects)\n\u001b[1;32m   4297\u001b[0m \u001b[39mfinally\u001b[39;00m:\n\u001b[1;32m   4298\u001b[0m     \u001b[39mself\u001b[39m\u001b[39m.\u001b[39m_flushing \u001b[39m=\u001b[39m \u001b[39mFalse\u001b[39;00m\n",
      "File \u001b[0;32m~/Library/Caches/pypoetry/virtualenvs/prediction-delivery-time-GBb6yWNt-py3.9/lib/python3.9/site-packages/sqlalchemy/orm/session.py:4432\u001b[0m, in \u001b[0;36mSession._flush\u001b[0;34m(self, objects)\u001b[0m\n\u001b[1;32m   4430\u001b[0m \u001b[39mexcept\u001b[39;00m:\n\u001b[1;32m   4431\u001b[0m     \u001b[39mwith\u001b[39;00m util\u001b[39m.\u001b[39msafe_reraise():\n\u001b[0;32m-> 4432\u001b[0m         transaction\u001b[39m.\u001b[39mrollback(_capture_exception\u001b[39m=\u001b[39m\u001b[39mTrue\u001b[39;00m)\n",
      "File \u001b[0;32m~/Library/Caches/pypoetry/virtualenvs/prediction-delivery-time-GBb6yWNt-py3.9/lib/python3.9/site-packages/sqlalchemy/util/langhelpers.py:146\u001b[0m, in \u001b[0;36msafe_reraise.__exit__\u001b[0;34m(self, type_, value, traceback)\u001b[0m\n\u001b[1;32m    144\u001b[0m     \u001b[39massert\u001b[39;00m exc_value \u001b[39mis\u001b[39;00m \u001b[39mnot\u001b[39;00m \u001b[39mNone\u001b[39;00m\n\u001b[1;32m    145\u001b[0m     \u001b[39mself\u001b[39m\u001b[39m.\u001b[39m_exc_info \u001b[39m=\u001b[39m \u001b[39mNone\u001b[39;00m  \u001b[39m# remove potential circular references\u001b[39;00m\n\u001b[0;32m--> 146\u001b[0m     \u001b[39mraise\u001b[39;00m exc_value\u001b[39m.\u001b[39mwith_traceback(exc_tb)\n\u001b[1;32m    147\u001b[0m \u001b[39melse\u001b[39;00m:\n\u001b[1;32m    148\u001b[0m     \u001b[39mself\u001b[39m\u001b[39m.\u001b[39m_exc_info \u001b[39m=\u001b[39m \u001b[39mNone\u001b[39;00m  \u001b[39m# remove potential circular references\u001b[39;00m\n",
      "File \u001b[0;32m~/Library/Caches/pypoetry/virtualenvs/prediction-delivery-time-GBb6yWNt-py3.9/lib/python3.9/site-packages/sqlalchemy/orm/session.py:4392\u001b[0m, in \u001b[0;36mSession._flush\u001b[0;34m(self, objects)\u001b[0m\n\u001b[1;32m   4390\u001b[0m \u001b[39mself\u001b[39m\u001b[39m.\u001b[39m_warn_on_events \u001b[39m=\u001b[39m \u001b[39mTrue\u001b[39;00m\n\u001b[1;32m   4391\u001b[0m \u001b[39mtry\u001b[39;00m:\n\u001b[0;32m-> 4392\u001b[0m     flush_context\u001b[39m.\u001b[39;49mexecute()\n\u001b[1;32m   4393\u001b[0m \u001b[39mfinally\u001b[39;00m:\n\u001b[1;32m   4394\u001b[0m     \u001b[39mself\u001b[39m\u001b[39m.\u001b[39m_warn_on_events \u001b[39m=\u001b[39m \u001b[39mFalse\u001b[39;00m\n",
      "File \u001b[0;32m~/Library/Caches/pypoetry/virtualenvs/prediction-delivery-time-GBb6yWNt-py3.9/lib/python3.9/site-packages/sqlalchemy/orm/unitofwork.py:466\u001b[0m, in \u001b[0;36mUOWTransaction.execute\u001b[0;34m(self)\u001b[0m\n\u001b[1;32m    464\u001b[0m \u001b[39melse\u001b[39;00m:\n\u001b[1;32m    465\u001b[0m     \u001b[39mfor\u001b[39;00m rec \u001b[39min\u001b[39;00m topological\u001b[39m.\u001b[39msort(\u001b[39mself\u001b[39m\u001b[39m.\u001b[39mdependencies, postsort_actions):\n\u001b[0;32m--> 466\u001b[0m         rec\u001b[39m.\u001b[39;49mexecute(\u001b[39mself\u001b[39;49m)\n",
      "File \u001b[0;32m~/Library/Caches/pypoetry/virtualenvs/prediction-delivery-time-GBb6yWNt-py3.9/lib/python3.9/site-packages/sqlalchemy/orm/unitofwork.py:642\u001b[0m, in \u001b[0;36mSaveUpdateAll.execute\u001b[0;34m(self, uow)\u001b[0m\n\u001b[1;32m    640\u001b[0m \u001b[39m@util\u001b[39m\u001b[39m.\u001b[39mpreload_module(\u001b[39m\"\u001b[39m\u001b[39msqlalchemy.orm.persistence\u001b[39m\u001b[39m\"\u001b[39m)\n\u001b[1;32m    641\u001b[0m \u001b[39mdef\u001b[39;00m \u001b[39mexecute\u001b[39m(\u001b[39mself\u001b[39m, uow):\n\u001b[0;32m--> 642\u001b[0m     util\u001b[39m.\u001b[39;49mpreloaded\u001b[39m.\u001b[39;49morm_persistence\u001b[39m.\u001b[39;49msave_obj(\n\u001b[1;32m    643\u001b[0m         \u001b[39mself\u001b[39;49m\u001b[39m.\u001b[39;49mmapper,\n\u001b[1;32m    644\u001b[0m         uow\u001b[39m.\u001b[39;49mstates_for_mapper_hierarchy(\u001b[39mself\u001b[39;49m\u001b[39m.\u001b[39;49mmapper, \u001b[39mFalse\u001b[39;49;00m, \u001b[39mFalse\u001b[39;49;00m),\n\u001b[1;32m    645\u001b[0m         uow,\n\u001b[1;32m    646\u001b[0m     )\n",
      "File \u001b[0;32m~/Library/Caches/pypoetry/virtualenvs/prediction-delivery-time-GBb6yWNt-py3.9/lib/python3.9/site-packages/sqlalchemy/orm/persistence.py:93\u001b[0m, in \u001b[0;36msave_obj\u001b[0;34m(base_mapper, states, uowtransaction, single)\u001b[0m\n\u001b[1;32m     81\u001b[0m     update \u001b[39m=\u001b[39m _collect_update_commands(\n\u001b[1;32m     82\u001b[0m         uowtransaction, table, states_to_update\n\u001b[1;32m     83\u001b[0m     )\n\u001b[1;32m     85\u001b[0m     _emit_update_statements(\n\u001b[1;32m     86\u001b[0m         base_mapper,\n\u001b[1;32m     87\u001b[0m         uowtransaction,\n\u001b[0;32m   (...)\u001b[0m\n\u001b[1;32m     90\u001b[0m         update,\n\u001b[1;32m     91\u001b[0m     )\n\u001b[0;32m---> 93\u001b[0m     _emit_insert_statements(\n\u001b[1;32m     94\u001b[0m         base_mapper,\n\u001b[1;32m     95\u001b[0m         uowtransaction,\n\u001b[1;32m     96\u001b[0m         mapper,\n\u001b[1;32m     97\u001b[0m         table,\n\u001b[1;32m     98\u001b[0m         insert,\n\u001b[1;32m     99\u001b[0m     )\n\u001b[1;32m    101\u001b[0m _finalize_insert_update_commands(\n\u001b[1;32m    102\u001b[0m     base_mapper,\n\u001b[1;32m    103\u001b[0m     uowtransaction,\n\u001b[0;32m   (...)\u001b[0m\n\u001b[1;32m    119\u001b[0m     ),\n\u001b[1;32m    120\u001b[0m )\n",
      "File \u001b[0;32m~/Library/Caches/pypoetry/virtualenvs/prediction-delivery-time-GBb6yWNt-py3.9/lib/python3.9/site-packages/sqlalchemy/orm/persistence.py:1233\u001b[0m, in \u001b[0;36m_emit_insert_statements\u001b[0;34m(base_mapper, uowtransaction, mapper, table, insert, bookkeeping, use_orm_insert_stmt, execution_options)\u001b[0m\n\u001b[1;32m   1227\u001b[0m     result \u001b[39m=\u001b[39m connection\u001b[39m.\u001b[39mexecute(\n\u001b[1;32m   1228\u001b[0m         statement\u001b[39m.\u001b[39mvalues(value_params),\n\u001b[1;32m   1229\u001b[0m         params,\n\u001b[1;32m   1230\u001b[0m         execution_options\u001b[39m=\u001b[39mexecution_options,\n\u001b[1;32m   1231\u001b[0m     )\n\u001b[1;32m   1232\u001b[0m \u001b[39melse\u001b[39;00m:\n\u001b[0;32m-> 1233\u001b[0m     result \u001b[39m=\u001b[39m connection\u001b[39m.\u001b[39;49mexecute(\n\u001b[1;32m   1234\u001b[0m         statement,\n\u001b[1;32m   1235\u001b[0m         params,\n\u001b[1;32m   1236\u001b[0m         execution_options\u001b[39m=\u001b[39;49mexecution_options,\n\u001b[1;32m   1237\u001b[0m     )\n\u001b[1;32m   1239\u001b[0m primary_key \u001b[39m=\u001b[39m result\u001b[39m.\u001b[39minserted_primary_key\n\u001b[1;32m   1240\u001b[0m \u001b[39mif\u001b[39;00m primary_key \u001b[39mis\u001b[39;00m \u001b[39mNone\u001b[39;00m:\n",
      "File \u001b[0;32m~/Library/Caches/pypoetry/virtualenvs/prediction-delivery-time-GBb6yWNt-py3.9/lib/python3.9/site-packages/sqlalchemy/engine/base.py:1408\u001b[0m, in \u001b[0;36mConnection.execute\u001b[0;34m(self, statement, parameters, execution_options)\u001b[0m\n\u001b[1;32m   1406\u001b[0m     \u001b[39mraise\u001b[39;00m exc\u001b[39m.\u001b[39mObjectNotExecutableError(statement) \u001b[39mfrom\u001b[39;00m \u001b[39merr\u001b[39;00m\n\u001b[1;32m   1407\u001b[0m \u001b[39melse\u001b[39;00m:\n\u001b[0;32m-> 1408\u001b[0m     \u001b[39mreturn\u001b[39;00m meth(\n\u001b[1;32m   1409\u001b[0m         \u001b[39mself\u001b[39;49m,\n\u001b[1;32m   1410\u001b[0m         distilled_parameters,\n\u001b[1;32m   1411\u001b[0m         execution_options \u001b[39mor\u001b[39;49;00m NO_OPTIONS,\n\u001b[1;32m   1412\u001b[0m     )\n",
      "File \u001b[0;32m~/Library/Caches/pypoetry/virtualenvs/prediction-delivery-time-GBb6yWNt-py3.9/lib/python3.9/site-packages/sqlalchemy/sql/elements.py:513\u001b[0m, in \u001b[0;36mClauseElement._execute_on_connection\u001b[0;34m(self, connection, distilled_params, execution_options)\u001b[0m\n\u001b[1;32m    511\u001b[0m     \u001b[39mif\u001b[39;00m TYPE_CHECKING:\n\u001b[1;32m    512\u001b[0m         \u001b[39massert\u001b[39;00m \u001b[39misinstance\u001b[39m(\u001b[39mself\u001b[39m, Executable)\n\u001b[0;32m--> 513\u001b[0m     \u001b[39mreturn\u001b[39;00m connection\u001b[39m.\u001b[39;49m_execute_clauseelement(\n\u001b[1;32m    514\u001b[0m         \u001b[39mself\u001b[39;49m, distilled_params, execution_options\n\u001b[1;32m    515\u001b[0m     )\n\u001b[1;32m    516\u001b[0m \u001b[39melse\u001b[39;00m:\n\u001b[1;32m    517\u001b[0m     \u001b[39mraise\u001b[39;00m exc\u001b[39m.\u001b[39mObjectNotExecutableError(\u001b[39mself\u001b[39m)\n",
      "File \u001b[0;32m~/Library/Caches/pypoetry/virtualenvs/prediction-delivery-time-GBb6yWNt-py3.9/lib/python3.9/site-packages/sqlalchemy/engine/base.py:1630\u001b[0m, in \u001b[0;36mConnection._execute_clauseelement\u001b[0;34m(self, elem, distilled_parameters, execution_options)\u001b[0m\n\u001b[1;32m   1618\u001b[0m compiled_cache: Optional[CompiledCacheType] \u001b[39m=\u001b[39m execution_options\u001b[39m.\u001b[39mget(\n\u001b[1;32m   1619\u001b[0m     \u001b[39m\"\u001b[39m\u001b[39mcompiled_cache\u001b[39m\u001b[39m\"\u001b[39m, \u001b[39mself\u001b[39m\u001b[39m.\u001b[39mengine\u001b[39m.\u001b[39m_compiled_cache\n\u001b[1;32m   1620\u001b[0m )\n\u001b[1;32m   1622\u001b[0m compiled_sql, extracted_params, cache_hit \u001b[39m=\u001b[39m elem\u001b[39m.\u001b[39m_compile_w_cache(\n\u001b[1;32m   1623\u001b[0m     dialect\u001b[39m=\u001b[39mdialect,\n\u001b[1;32m   1624\u001b[0m     compiled_cache\u001b[39m=\u001b[39mcompiled_cache,\n\u001b[0;32m   (...)\u001b[0m\n\u001b[1;32m   1628\u001b[0m     linting\u001b[39m=\u001b[39m\u001b[39mself\u001b[39m\u001b[39m.\u001b[39mdialect\u001b[39m.\u001b[39mcompiler_linting \u001b[39m|\u001b[39m compiler\u001b[39m.\u001b[39mWARN_LINTING,\n\u001b[1;32m   1629\u001b[0m )\n\u001b[0;32m-> 1630\u001b[0m ret \u001b[39m=\u001b[39m \u001b[39mself\u001b[39;49m\u001b[39m.\u001b[39;49m_execute_context(\n\u001b[1;32m   1631\u001b[0m     dialect,\n\u001b[1;32m   1632\u001b[0m     dialect\u001b[39m.\u001b[39;49mexecution_ctx_cls\u001b[39m.\u001b[39;49m_init_compiled,\n\u001b[1;32m   1633\u001b[0m     compiled_sql,\n\u001b[1;32m   1634\u001b[0m     distilled_parameters,\n\u001b[1;32m   1635\u001b[0m     execution_options,\n\u001b[1;32m   1636\u001b[0m     compiled_sql,\n\u001b[1;32m   1637\u001b[0m     distilled_parameters,\n\u001b[1;32m   1638\u001b[0m     elem,\n\u001b[1;32m   1639\u001b[0m     extracted_params,\n\u001b[1;32m   1640\u001b[0m     cache_hit\u001b[39m=\u001b[39;49mcache_hit,\n\u001b[1;32m   1641\u001b[0m )\n\u001b[1;32m   1642\u001b[0m \u001b[39mif\u001b[39;00m has_events:\n\u001b[1;32m   1643\u001b[0m     \u001b[39mself\u001b[39m\u001b[39m.\u001b[39mdispatch\u001b[39m.\u001b[39mafter_execute(\n\u001b[1;32m   1644\u001b[0m         \u001b[39mself\u001b[39m,\n\u001b[1;32m   1645\u001b[0m         elem,\n\u001b[0;32m   (...)\u001b[0m\n\u001b[1;32m   1649\u001b[0m         ret,\n\u001b[1;32m   1650\u001b[0m     )\n",
      "File \u001b[0;32m~/Library/Caches/pypoetry/virtualenvs/prediction-delivery-time-GBb6yWNt-py3.9/lib/python3.9/site-packages/sqlalchemy/engine/base.py:1839\u001b[0m, in \u001b[0;36mConnection._execute_context\u001b[0;34m(self, dialect, constructor, statement, parameters, execution_options, *args, **kw)\u001b[0m\n\u001b[1;32m   1834\u001b[0m     \u001b[39mreturn\u001b[39;00m \u001b[39mself\u001b[39m\u001b[39m.\u001b[39m_exec_insertmany_context(\n\u001b[1;32m   1835\u001b[0m         dialect,\n\u001b[1;32m   1836\u001b[0m         context,\n\u001b[1;32m   1837\u001b[0m     )\n\u001b[1;32m   1838\u001b[0m \u001b[39melse\u001b[39;00m:\n\u001b[0;32m-> 1839\u001b[0m     \u001b[39mreturn\u001b[39;00m \u001b[39mself\u001b[39;49m\u001b[39m.\u001b[39;49m_exec_single_context(\n\u001b[1;32m   1840\u001b[0m         dialect, context, statement, parameters\n\u001b[1;32m   1841\u001b[0m     )\n",
      "File \u001b[0;32m~/Library/Caches/pypoetry/virtualenvs/prediction-delivery-time-GBb6yWNt-py3.9/lib/python3.9/site-packages/sqlalchemy/engine/base.py:1979\u001b[0m, in \u001b[0;36mConnection._exec_single_context\u001b[0;34m(self, dialect, context, statement, parameters)\u001b[0m\n\u001b[1;32m   1976\u001b[0m     result \u001b[39m=\u001b[39m context\u001b[39m.\u001b[39m_setup_result_proxy()\n\u001b[1;32m   1978\u001b[0m \u001b[39mexcept\u001b[39;00m \u001b[39mBaseException\u001b[39;00m \u001b[39mas\u001b[39;00m e:\n\u001b[0;32m-> 1979\u001b[0m     \u001b[39mself\u001b[39;49m\u001b[39m.\u001b[39;49m_handle_dbapi_exception(\n\u001b[1;32m   1980\u001b[0m         e, str_statement, effective_parameters, cursor, context\n\u001b[1;32m   1981\u001b[0m     )\n\u001b[1;32m   1983\u001b[0m \u001b[39mreturn\u001b[39;00m result\n",
      "File \u001b[0;32m~/Library/Caches/pypoetry/virtualenvs/prediction-delivery-time-GBb6yWNt-py3.9/lib/python3.9/site-packages/sqlalchemy/engine/base.py:2335\u001b[0m, in \u001b[0;36mConnection._handle_dbapi_exception\u001b[0;34m(self, e, statement, parameters, cursor, context, is_sub_exec)\u001b[0m\n\u001b[1;32m   2333\u001b[0m \u001b[39melif\u001b[39;00m should_wrap:\n\u001b[1;32m   2334\u001b[0m     \u001b[39massert\u001b[39;00m sqlalchemy_exception \u001b[39mis\u001b[39;00m \u001b[39mnot\u001b[39;00m \u001b[39mNone\u001b[39;00m\n\u001b[0;32m-> 2335\u001b[0m     \u001b[39mraise\u001b[39;00m sqlalchemy_exception\u001b[39m.\u001b[39mwith_traceback(exc_info[\u001b[39m2\u001b[39m]) \u001b[39mfrom\u001b[39;00m \u001b[39me\u001b[39;00m\n\u001b[1;32m   2336\u001b[0m \u001b[39melse\u001b[39;00m:\n\u001b[1;32m   2337\u001b[0m     \u001b[39massert\u001b[39;00m exc_info[\u001b[39m1\u001b[39m] \u001b[39mis\u001b[39;00m \u001b[39mnot\u001b[39;00m \u001b[39mNone\u001b[39;00m\n",
      "File \u001b[0;32m~/Library/Caches/pypoetry/virtualenvs/prediction-delivery-time-GBb6yWNt-py3.9/lib/python3.9/site-packages/sqlalchemy/engine/base.py:1960\u001b[0m, in \u001b[0;36mConnection._exec_single_context\u001b[0;34m(self, dialect, context, statement, parameters)\u001b[0m\n\u001b[1;32m   1958\u001b[0m                 \u001b[39mbreak\u001b[39;00m\n\u001b[1;32m   1959\u001b[0m     \u001b[39mif\u001b[39;00m \u001b[39mnot\u001b[39;00m evt_handled:\n\u001b[0;32m-> 1960\u001b[0m         \u001b[39mself\u001b[39;49m\u001b[39m.\u001b[39;49mdialect\u001b[39m.\u001b[39;49mdo_execute(\n\u001b[1;32m   1961\u001b[0m             cursor, str_statement, effective_parameters, context\n\u001b[1;32m   1962\u001b[0m         )\n\u001b[1;32m   1964\u001b[0m \u001b[39mif\u001b[39;00m \u001b[39mself\u001b[39m\u001b[39m.\u001b[39m_has_events \u001b[39mor\u001b[39;00m \u001b[39mself\u001b[39m\u001b[39m.\u001b[39mengine\u001b[39m.\u001b[39m_has_events:\n\u001b[1;32m   1965\u001b[0m     \u001b[39mself\u001b[39m\u001b[39m.\u001b[39mdispatch\u001b[39m.\u001b[39mafter_cursor_execute(\n\u001b[1;32m   1966\u001b[0m         \u001b[39mself\u001b[39m,\n\u001b[1;32m   1967\u001b[0m         cursor,\n\u001b[0;32m   (...)\u001b[0m\n\u001b[1;32m   1971\u001b[0m         context\u001b[39m.\u001b[39mexecutemany,\n\u001b[1;32m   1972\u001b[0m     )\n",
      "File \u001b[0;32m~/Library/Caches/pypoetry/virtualenvs/prediction-delivery-time-GBb6yWNt-py3.9/lib/python3.9/site-packages/sqlalchemy/engine/default.py:924\u001b[0m, in \u001b[0;36mDefaultDialect.do_execute\u001b[0;34m(self, cursor, statement, parameters, context)\u001b[0m\n\u001b[1;32m    923\u001b[0m \u001b[39mdef\u001b[39;00m \u001b[39mdo_execute\u001b[39m(\u001b[39mself\u001b[39m, cursor, statement, parameters, context\u001b[39m=\u001b[39m\u001b[39mNone\u001b[39;00m):\n\u001b[0;32m--> 924\u001b[0m     cursor\u001b[39m.\u001b[39;49mexecute(statement, parameters)\n",
      "\u001b[0;31mIntegrityError\u001b[0m: (psycopg2.errors.UniqueViolation) duplicate key value violates unique constraint \"prediction_pkey\"\nDETAIL:  Key (\"ID\")=(4607) already exists.\n\n[SQL: INSERT INTO prediction (\"ID\", \"Delivery_person_ID\", \"Delivery_person_Age\", \"Delivery_person_Ratings\", \"Restaurant_latitude\", \"Restaurant_longitude\", \"Delivery_location_latitude\", \"Delivery_location_longitude\", \"Type_of_order\", \"Type_of_vehicle\", \"Time_taken\", prediction, \"createdAt\", \"updatedAt\") VALUES (%(ID)s, %(Delivery_person_ID)s, %(Delivery_person_Age)s, %(Delivery_person_Ratings)s, %(Restaurant_latitude)s, %(Restaurant_longitude)s, %(Delivery_location_latitude)s, %(Delivery_location_longitude)s, %(Type_of_order)s, %(Type_of_vehicle)s, %(Time_taken)s, %(prediction)s, now(), now()) RETURNING prediction.\"createdAt\", prediction.\"updatedAt\"]\n[parameters: {'ID': '4607', 'Delivery_person_ID': 'INDORES13DEL02', 'Delivery_person_Age': 37, 'Delivery_person_Ratings': 4.9, 'Restaurant_latitude': 22.745049, 'Restaurant_longitude': 75.892471, 'Delivery_location_latitude': 22.765049, 'Delivery_location_longitude': 75.912471, 'Type_of_order': 'Snack', 'Type_of_vehicle': 'motorcycle', 'Time_taken': 24, 'prediction': 23.90610694885254}]\n(Background on this error at: https://sqlalche.me/e/20/gkpj)"
     ]
    }
   ],
   "source": [
    "a = {\n",
    "  \"inputs\": [\n",
    "    {\n",
    "      \"Delivery_location_latitude\": 22.765049,\n",
    "      \"Delivery_location_longitude\": 75.912471,\n",
    "      \"Delivery_person_Age\": 37,\n",
    "      \"Delivery_person_ID\": \"INDORES13DEL02\",\n",
    "      \"Delivery_person_Ratings\": 4.9,\n",
    "      \"ID\": \"4607\",\n",
    "      \"Restaurant_latitude\": 22.745049,\n",
    "      \"Restaurant_longitude\": 75.892471,\n",
    "      \"Time_taken\": 24,\n",
    "      \"Type_of_order\": \"Snack\",\n",
    "      \"Type_of_vehicle\": \"motorcycle\"\n",
    "    }\n",
    "  ]\n",
    "}\n",
    "\n",
    "response = client.post(\"/predict\", json=a)\n",
    "response = response.json()\n",
    "response['predictions'][0][0]"
   ]
  }
 ],
 "metadata": {
  "kernelspec": {
   "display_name": "Python 3.9.13 ('prediction-delivery-time-GBb6yWNt-py3.9')",
   "language": "python",
   "name": "python3"
  },
  "language_info": {
   "codemirror_mode": {
    "name": "ipython",
    "version": 3
   },
   "file_extension": ".py",
   "mimetype": "text/x-python",
   "name": "python",
   "nbconvert_exporter": "python",
   "pygments_lexer": "ipython3",
   "version": "3.9.13"
  },
  "orig_nbformat": 4,
  "vscode": {
   "interpreter": {
    "hash": "c993719d40940c1870447e8d0f451c48acb6b4f92c42a165e21aa4cf14817688"
   }
  }
 },
 "nbformat": 4,
 "nbformat_minor": 2
}
